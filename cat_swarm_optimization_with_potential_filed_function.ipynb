{
  "nbformat": 4,
  "nbformat_minor": 0,
  "metadata": {
    "colab": {
      "name": "cat swarm optimization with potential filed function.ipynb",
      "provenance": [],
      "collapsed_sections": [],
      "authorship_tag": "ABX9TyOH7Fwhr6CMat1+mAvw/ZM2",
      "include_colab_link": true
    },
    "kernelspec": {
      "name": "python3",
      "display_name": "Python 3"
    },
    "language_info": {
      "name": "python"
    }
  },
  "cells": [
    {
      "cell_type": "markdown",
      "metadata": {
        "id": "view-in-github",
        "colab_type": "text"
      },
      "source": [
        "<a href=\"https://colab.research.google.com/github/yangtianchangxiao/Dissertation-project-in-Bristol/blob/main/cat_swarm_optimization_with_potential_filed_function.ipynb\" target=\"_parent\"><img src=\"https://colab.research.google.com/assets/colab-badge.svg\" alt=\"Open In Colab\"/></a>"
      ]
    },
    {
      "cell_type": "code",
      "execution_count": 701,
      "metadata": {
        "id": "4ROecFdtR4BQ"
      },
      "outputs": [],
      "source": [
        "import numpy as np\n",
        "import matplotlib.pyplot as plt"
      ]
    },
    {
      "cell_type": "markdown",
      "source": [
        "Initiate SMP.CDC.SRD and SPC"
      ],
      "metadata": {
        "id": "2uBYlI8VSNsG"
      }
    },
    {
      "cell_type": "code",
      "source": [
        "# Seeking mode set\n",
        "SMP = 8 # 10 copies of cat \n",
        "CDC = 0.5 # Half dimension will change.\n",
        "SRD = 1 # Change rate is 10%\n",
        "SPC = True \n",
        "SPC_ratio = 0.1\n",
        "seeking_group = 20\n",
        "coordinate_dimension = 2\n",
        "best_cat_x = 0\n",
        "best_cat_y = 0\n",
        "\n",
        "# Environment Initial\n",
        "def f(x1,x2): \n",
        "   return 3*x1**2-2.1*x1**4+(x1**6)/3+x1*x2-4*x2**2+4*x2**4\n",
        "#Generate searching area\n",
        "area_width = 15\n",
        "area_height = 13\n",
        "area = [0,area_width,0,area_height]\n",
        "x=np.linspace(area[0],area[1],200)\n",
        "y=np.linspace(area[2],area[3],200)\n",
        "X,Y= np.meshgrid(x,y)\n",
        "Fitness = f(X,Y)\n",
        "\n",
        "#ax3 = plt.axes(projection='3d')\n",
        "#ax3.plot_surface(X,Y,Fitness,cmap='rainbow')\n",
        "#area_size = (area[1]-area[0])*(area[3]-area[2])\n",
        "#print(type(Fitness))\n",
        "#print(\"max(Fitness)\", np.max(Fitness))\n",
        "\n",
        "#print(f(1,1.133867299686855))\n",
        "#tracing\n",
        "\n",
        "\n",
        "tracing_group_size = 6\n",
        "iteration = 100\n",
        "accuracy = 0.0001\n",
        "\n",
        "max_tracing_velocity = min(area[1]-area[0],area[3]-area[2])/40\n",
        "tracing_velocity = np.zeros((coordinate_dimension,tracing_group_size))\n",
        "tracing_position = np.zeros((coordinate_dimension,tracing_group_size))\n",
        "c = 1.5\n"
      ],
      "metadata": {
        "id": "Jmnx81Y_XKzv"
      },
      "execution_count": 702,
      "outputs": []
    },
    {
      "cell_type": "code",
      "source": [
        ""
      ],
      "metadata": {
        "id": "uRvjTsX3U8N5"
      },
      "execution_count": 702,
      "outputs": []
    },
    {
      "cell_type": "code",
      "source": [
        "xita = 0.5\n",
        "distance = 0\n",
        "detect_targets = False\n",
        "ap = 10\n",
        "av = 0\n",
        "m = 2\n",
        "n = 1.2\n",
        "v = 0 # velocity\n",
        "v_last = 0\n",
        "v_last = 0\n",
        "a = 0.1 # acceleration\n",
        "v_target = 0\n",
        "\n",
        "\n",
        "detection_range = 4"
      ],
      "metadata": {
        "id": "0zUs3qYDVkUk"
      },
      "execution_count": 703,
      "outputs": []
    },
    {
      "cell_type": "code",
      "source": [
        "import numpy as np\n",
        "import matplotlib.pyplot as plt\n",
        "from matplotlib.path import Path\n",
        "import matplotlib.patches as patches\n",
        "area_width = 15\n",
        "area_height = 13\n",
        "block_num = 5\n",
        "max_block_width = 1\n",
        "max_block_height = 1\n",
        "block_parameters=np.zeros((6,block_num))\n",
        "influence_gain = 1.2 # Set danger area around a block. If a block is 1.3*1.4 size with a center (2.3,2.4),\n",
        "            # then the danger area is (1.2*1.3)*(1.2*1.4) size with the same center (2.3,2.4).\n",
        "influence_range = 0.5 # distance to the block\n",
        "block_influence_range_parameters=np.zeros((6,block_num))\n",
        "targets_num = 1\n",
        "targets_location = np.zeros((2,targets_num))\n",
        "fig = plt.figure()\n",
        "def generate_block():\n",
        "  global block_parameters, block_influence_range\n",
        "  for i in range(block_num):\n",
        "    #initiate x and y coordinates of block_cneter \n",
        "    block_parameters[0][i] = np.random.random()*(area_width - max_block_width) # 这种生成block center 的方法有一个缺点，就是block center 生成区域范围缩小了，本来应该是整个area, \n",
        "                                    #可以改成整个区域，然后对block center + x/y interval施加约束，使其不超过整个区域\n",
        "    block_parameters[1][i] = np.random.random()*(area_height - max_block_height)\n",
        "    block_influence_range_parameters[0][i] = block_parameters[0][i]\n",
        "    block_influence_range_parameters[1][i] = block_parameters[1][i]\n",
        "\n",
        "    x_interval = np.random.random()*max_block_width # Set x interval of left and right boundary from block center\n",
        "    for j in range(2,4): # x interval of left and right boundary from block center\n",
        "      block_parameters[j][i] = x_interval\n",
        "      #block_influence_range_parameters[j][i] = influence_gain*block_parameters[j][i]\n",
        "      block_influence_range_parameters[j][i] = influence_range/2 + block_parameters[j][i]\n",
        "      \n",
        "    y_interval = np.random.random()*max_block_height # Set y coordinates of up and down boundary from block center\n",
        "    for j in range(4,6): # y coordinates of up and down boundary from block center\n",
        "      block_parameters[j][i] = y_interval\n",
        "      #block_influence_range_parameters[j][i] = influence_gain*block_parameters[j][i]\n",
        "      block_influence_range_parameters[j][i] = influence_range/2 + block_parameters[j][i]\n",
        "      #print(block_parameters[j][i])\n",
        "    \n",
        "  #print(block_parameters)\n",
        "  return(block_parameters)\n",
        "def plot_block(parameters):\n",
        "  global fig\n",
        "  for i in range(block_num):\n",
        "    x = [parameters[0][i]-parameters[2][i], parameters[0][i]+parameters[3][i]] #coordiantes of left and right boundary of blocks\n",
        "    y = [parameters[1][i]-parameters[4][i], parameters[1][i]+parameters[5][i]] #coordiantes of down and up boundary of blocks\n",
        "    coordinates = [(x[0],y[0]),#left bottom\n",
        "    (x[0],y[1]),#left top\n",
        "    (x[1],y[1]),#right top \n",
        "    (x[1],y[0]),#right bottom\n",
        "    (x[0],y[0])# ignored\n",
        "    ]\n",
        "    codes = [Path.MOVETO,\n",
        "    Path.LINETO,\n",
        "    Path.LINETO,\n",
        "    Path.LINETO,\n",
        "    Path.CLOSEPOLY,]\n",
        "    path = Path(coordinates, codes)\n",
        "    patch = patches.PathPatch(path, facecolor='orange', lw=2)\n",
        "    ax = fig.add_subplot(111)\n",
        "    ax.axis('equal')\n",
        "    ax.add_patch(patch)\n",
        "\n",
        "def plot_danger_area(parameters):\n",
        "  global fig\n",
        "  for i in range(block_num):\n",
        "    x = [parameters[0][i]-parameters[2][i], parameters[0][i]+parameters[3][i]] #coordiantes of left and right boundary of blocks\n",
        "    y = [parameters[1][i]-parameters[4][i], parameters[1][i]+parameters[5][i]] #coordiantes of down and up boundary of blocks\n",
        "    coordinates = [(x[0],y[0]),#left bottom\n",
        "    (x[0],y[1]),#left top\n",
        "    (x[1],y[1]),#right top \n",
        "    (x[1],y[0]),#right bottom\n",
        "    (x[0],y[0])# ignored\n",
        "    ]\n",
        "    codes = [Path.MOVETO,\n",
        "    Path.LINETO,\n",
        "    Path.LINETO,\n",
        "    Path.LINETO,\n",
        "    Path.CLOSEPOLY,]\n",
        "    path = Path(coordinates, codes)\n",
        "    patch = patches.PathPatch(path, color = None,facecolor = 'None', linestyle ='-', lw=2)\n",
        "    ax = fig.add_subplot(111)\n",
        "    ax.axis('equal')\n",
        "    ax.add_patch(patch)\n",
        "\n",
        "def initiate_targets():\n",
        "  global targets_num, targets_location, fig\n",
        "  regenate_time = 1\n",
        "  for i in range(targets_num):\n",
        "    targets_location[0][i] = np.random.random()*area_width\n",
        "    targets_location[1][i] = np.random.random()*area_height\n",
        "    while True:\n",
        "      for j in range(block_num): # If targets are covoerd by blocks, then we should regerate targets\n",
        "        x = [block_parameters[0][i]-block_parameters[2][i], block_parameters[0][i]+block_parameters[3][i]] #coordiantes of left and right boundary of blocks\n",
        "        y = [block_parameters[1][i]-block_parameters[4][i], block_parameters[1][i]+block_parameters[5][i]] #coordiantes of down and up boundary of blocks\n",
        "        if (x[0]<targets_location[0][i]<x[1] and y[0]<targets_location[1][i]<y[1]): # If targets are coverd by blocks,\n",
        "          print(\"Targts\",j,\"is coverd by blocks\",regenate_time,\"times\")\n",
        "          regenate_time = regenate_time + 1\n",
        "          targets_location[0][i] = np.random.random()*area_width   \n",
        "          targets_location[1][i] = np.random.random()*area_height\n",
        "          break # end 'for ' loop and test whether targets are covered by blockd or not, again.\n",
        "      if j == block_num-1:\n",
        "        break\n",
        "    #plt.plot(targets_location[0][i],targets_location[1][i],'>')\n",
        "\n"
      ],
      "metadata": {
        "id": "cdf2q7KDEfNa",
        "colab": {
          "base_uri": "https://localhost:8080/",
          "height": 35
        },
        "outputId": "087c5638-37cf-4d44-b7c1-9d578eab0d3f"
      },
      "execution_count": 704,
      "outputs": [
        {
          "output_type": "display_data",
          "data": {
            "text/plain": [
              "<Figure size 432x288 with 0 Axes>"
            ]
          },
          "metadata": {}
        }
      ]
    },
    {
      "cell_type": "code",
      "source": [
        "def distance_to_block(p_x,p_y):\n",
        "  distance_list = []\n",
        "  for i in range(block_num):\n",
        "    x = [block_parameters[0][i]-block_parameters[2][i], block_parameters[0][i]+block_parameters[3][i]] #coordiantes of left and right boundary of blocks\n",
        "    y = [block_parameters[1][i]-block_parameters[4][i], block_parameters[1][i]+block_parameters[5][i]] #coordiantes of down and up boundary of blocks\n",
        "    danger_x = [block_influence_range_parameters[1][i]-block_influence_range_parameters[4][i], block_influence_range_parameters[1][i]+block_influence_range_parameters[5][i]]\n",
        "    danger_y = [block_influence_range_parameters[1][i]-block_influence_range_parameters[4][i], block_influence_range_parameters[1][i]+block_influence_range_parameters[5][i]]\n",
        "    if x[0]<p_x<x[1]:\n",
        "      distance_list.append(min(abs(p_y-y[0]),abs(p_y-y[1])))\n",
        "    elif y[0]<p_y<y[1]:\n",
        "      distance_list.append(min(abs(p_x-x[0]),abs(p_x-x[1])))\n",
        "    else:\n",
        "      distance_list.append(min(p_p_distance(p_x,p_y,x[0],y[0]),p_p_distance(p_x,p_y,x[0],y[1]),p_p_distance(p_x,p_y,x[1],y[0]),p_p_distance(p_x,p_y,x[1],y[1])))\n",
        "  return min(distance_list)\n",
        "def p_p_distance(p_x,p_y,x,y):\n",
        "  return np.sqrt((p_x-x)**2+(p_y-y)**2)\n",
        "\n",
        "\n",
        "def potential_field(p_x,p_y,last_p_x,last_p_y):\n",
        "  global v_last, detect_targets\n",
        "  # global targets_num robots_num\n",
        "\n",
        "  detect_obstacles = False\n",
        "  distance_to_tragets = []\n",
        "  ## 策略一 找到 target 后，不改变 robot 的 target，即使中间遇到更近的\n",
        "\n",
        "  ## 疑惑 cat copy 在实际中代表什么呢\n",
        "  for i in range (targets_num):\n",
        "    a = p_p_distance(last_p_x,last_p_y,targets_location[0][i],targets_location[1][i])\n",
        "    if a < detection_range:\n",
        "      detect_targets = True\n",
        "      #print(\"Find the target !!!!!!\")\n",
        "      break\n",
        "  v = p_p_distance(last_p_x,last_p_y,targets_location[0][i],targets_location[1][i])\n",
        "  a = v - v_last\n",
        "  v_last = v\n",
        "  #if distance_to_block(p_x,p_y)-v*v/2/a < influence_range:\n",
        "  if distance_to_block(p_x,p_y) < influence_range:\n",
        "    #U_repulsive = xita * (1/(distance_to_block(p_x,p_y)-v*v/2/a)-1/influence_range)\n",
        "    U_repulsive = xita * (1/(distance_to_block(p_x,p_y))-1/influence_range)\n",
        "    #print('U_repulsive',U_repulsive)\n",
        "  else:\n",
        "    U_repulsive = 0\n",
        "    #print('U_repulsive',U_repulsive)\n",
        "    detect_obstacles = True\n",
        "  if detect_targets == False: #Searching state\n",
        "    # 假设知道更新后的 cat 与 blocks 的相对位置\n",
        "    U_attractive = -1 * ap * p_p_distance(p_x,p_y,last_p_x,last_p_y) ** m\n",
        "    #print('U_attractive',U_attractive)\n",
        "  else: #Hunting state\n",
        "    U_attractive = ap * p_p_distance(p_x,p_y,targets_location[0][i],targets_location[1][i]) ** m + av * abs(v_target - v)\n",
        "    #print('U_attractive',U_attractive)\n",
        "  f_attractive =   U_attractive + U_repulsive \n",
        "  \n",
        "  return f_attractive\n"
      ],
      "metadata": {
        "id": "18ms8vd5WDVU"
      },
      "execution_count": 705,
      "outputs": []
    },
    {
      "cell_type": "code",
      "source": [
        ""
      ],
      "metadata": {
        "id": "BQuvXReyBqC-"
      },
      "execution_count": 705,
      "outputs": []
    },
    {
      "cell_type": "code",
      "source": [
        "# initate cats\n",
        "def initiate_cats(group_size,parameters):\n",
        "  global block_num\n",
        "  \n",
        "  group=np.zeros((coordinate_dimension,group_size))\n",
        "  #print(np.shape(group))\n",
        "  for i in range(group_size):\n",
        "    x_cat=np.random.uniform(area[0],area[1])\n",
        "    y_cat=np.random.uniform(area[2],area[3])\n",
        "    j = 0\n",
        "    while j < block_num:\n",
        "      x_block = [parameters[0][j]-parameters[2][j], parameters[0][j]+parameters[3][j]] #coordiantes of left and right boundary of blocks\n",
        "      y_block = [parameters[1][j]-parameters[4][j], parameters[1][j]+parameters[5][j]] #coordiantes of down and up boundary of blocks\n",
        "      if x_block[0]<x_cat<x_block[1] and y_block[0]<y_cat<y_block[1]:\n",
        "        x_cat=np.random.uniform(area[0],area[1])\n",
        "        y_cat=np.random.uniform(area[2],area[3])\n",
        "        j = 0\n",
        "      else:\n",
        "        j = j + 1\n",
        "        \n",
        "    group[0][i]=x_cat\n",
        "    group[1][i]=y_cat\n",
        "  #print(\"shape of group\",np.shape(group))\n",
        "  return group\n"
      ],
      "metadata": {
        "id": "DrMX4Ky611So"
      },
      "execution_count": 706,
      "outputs": []
    },
    {
      "cell_type": "code",
      "source": [
        "# seeking function\n",
        "\n",
        "def generate_candidate (P,parameters):\n",
        "  array_shape = np.shape(P)\n",
        "  array_column = array_shape[1]\n",
        "  array_row = array_shape[0]\n",
        "  candidate_group = np.zeros((seeking_group,SMP,1,array_row))\n",
        "  area_range = [area[1]-area[0],area[3]-area[2]]\n",
        "  # initial candicates\n",
        "  for column in range(seeking_group):\n",
        "    if(np.random.random()>SPC_ratio):\n",
        "      candidates_num = SMP - 1\n",
        "      for i in range(candidates_num):\n",
        "        CDC_array_init = np.random.randn(2)/50\n",
        "        # if note next two lines below, then the CDC is 0 and both dimensions change in seeking mode\n",
        "        #a = np.ndarray.tolist(CDC_array_init)\n",
        "        #CDC_array_init[a.index(np.min(a))]=np.min(a)\n",
        "        CDC_array = round(np.random.random(),2)* np.random.choice((-1, 1))* CDC_array_init.reshape(1,array_row)\n",
        "        #print(P[:,column]+CDC_array*np.max(a))\n",
        "        \n",
        "        candidate_group[column][i] = P[:,column]+CDC_array * area_range #*np.max(a)\n",
        "        # constraint on positions\n",
        "       \n",
        "        block_count = 0\n",
        "        #print(block_num,'is block_num')\n",
        "        while block_count < block_num:\n",
        "\n",
        "          if candidate_group[column][i][0][0] > area[1]:\n",
        "            candidate_group[column][i][0][0] = area[1]\n",
        "          if candidate_group[column][i][0][0] < area[0]:\n",
        "            candidate_group[column][i][0][0] = area[0]\n",
        "          if candidate_group[column][i][0][1] > area[3]:\n",
        "            candidate_group[column][i][0][1] = area[3]\n",
        "          if candidate_group[column][i][0][1] < area[2]:\n",
        "            candidate_group[column][i][0][1] = area[2]\n",
        "\n",
        "          x_block = [parameters[0][block_count]-parameters[2][block_count], parameters[0][block_count]+parameters[3][block_count]] #coordiantes of left and right boundary of blocks\n",
        "          y_block = [parameters[1][block_count]-parameters[4][block_count], parameters[1][block_count]+parameters[5][block_count]] #coordiantes of down and up boundary of blocks\n",
        "          if x_block[0] < candidate_group[column][i][0][0] <x_block[1] and y_block[0] < candidate_group[column][i][0][1] <y_block[1]:\n",
        "            CDC_array_init = np.random.randn(2)/20\n",
        "            CDC_array = round(np.random.random(),2)* np.random.choice((-1, 1))* CDC_array_init.reshape(1,array_row)\n",
        "            candidate_group[column][i] = P[:,column]+CDC_array * area_range #*np.max(a)\n",
        "            block_count = 0\n",
        "          else:\n",
        "            block_count = block_count + 1\n",
        "          #print('block_count is ',block_count)\n",
        "      candidate_group[column][SMP-1] = P[:,column]\n",
        "    else:\n",
        "      candidates_num = SMP\n",
        "      for i in range(candidates_num):\n",
        "        CDC_array_init = np.random.randn(2)/5\n",
        "        #a = np.ndarray.tolist(CDC_array_init)\n",
        "        #CDC_array_init[a.index(np.min(a))]=0\n",
        "        #CDC_array = round(np.random.random(),2)*CDC_array_init.reshape(1,array_row)\n",
        "        CDC_array = round(np.random.random(),2)* np.random.choice((-1, 1))* CDC_array_init.reshape(1,array_row)\n",
        "        #print(P[:,column]+CDC_array*np.max(a))\n",
        "        candidate_group[column][i] = P[:,column]+CDC_array * area_range #*np.max(a)\n",
        "        block_count = 0\n",
        "        #print(block_num,'is block_num')\n",
        "        while block_count < block_num:\n",
        "\n",
        "          # constraint on positions\n",
        "          if candidate_group[column][i][0][0] > area[1]:\n",
        "            candidate_group[column][i][0][0] = area[1]\n",
        "          if candidate_group[column][i][0][0] < area[0]:\n",
        "            candidate_group[column][i][0][0] = area[0]\n",
        "          if candidate_group[column][i][0][1] > area[3]:\n",
        "            candidate_group[column][i][0][1] = area[3]\n",
        "          if candidate_group[column][i][0][1] < area[2]:\n",
        "            candidate_group[column][i][0][1] = area[2]\n",
        "\n",
        "          x_block = [parameters[0][block_count]-parameters[2][block_count], parameters[0][block_count]+parameters[3][block_count]] #coordiantes of left and right boundary of blocks\n",
        "          y_block = [parameters[1][block_count]-parameters[4][block_count], parameters[1][block_count]+parameters[5][block_count]] #coordiantes of down and up boundary of blocks\n",
        "          if x_block[0] < candidate_group[column][i][0][0] <x_block[1] and y_block[0] < candidate_group[column][i][0][1] <y_block[1]:\n",
        "            CDC_array_init = np.random.randn(2)/5\n",
        "            CDC_array = round(np.random.random(),2)* np.random.choice((-1, 1))* CDC_array_init.reshape(1,array_row)\n",
        "            candidate_group[column][i] = P[:,column]+CDC_array * area_range #*np.max(a) \n",
        "            block_count = 0\n",
        "          else:\n",
        "            block_count = block_count + 1 \n",
        "          #print('block_count is ',block_count)       \n",
        "  #print(\"candidate_group shape\",np.shape(candidate_group))\n",
        "  return candidate_group\n"
      ],
      "metadata": {
        "id": "hrkiaQ3XPfU1"
      },
      "execution_count": 707,
      "outputs": []
    },
    {
      "cell_type": "code",
      "source": [
        "max_value = -100\n",
        "last_max_value = -100\n",
        "min_value = 100000\n",
        "def evaluate(group,original_group):\n",
        "  print(\"Start evaluating\")\n",
        "  global min_value\n",
        "  global best_cat_x, best_cat_y, individual_best_x, individual_best_y\n",
        "  index_list=[]\n",
        "  value_list=[]\n",
        "  max_value_list = []\n",
        "  min_value_list = []\n",
        "  for cat in range(seeking_group):\n",
        "    #max_value = -100\n",
        "    candidate_index = 0\n",
        "    #min_value = 100\n",
        "    for copy in range(SMP):\n",
        "      min_value = 10000\n",
        "      candidate_value=potential_field(group[cat][copy][0][0],group[cat][copy][0][1],original_group[0][cat],original_group[1][cat])\n",
        "      value_list.append(candidate_value)\n",
        "      #print(candidate_value)\n",
        "      if(candidate_value < min_value):\n",
        "        min_value = candidate_value\n",
        "        individual_best_x = best_cat_x = group[cat][copy][0][0]\n",
        "        individual_best_y = best_cat_y = group[cat][copy][0][1]\n",
        "\n",
        "\n",
        "    \n",
        "    max_value_list = max(value_list)\n",
        "    min_value_list = min(value_list)\n",
        "    #print('value_list',value_list)\n",
        "    #print('min_value_list',)\n",
        "    for copy in range(SMP):\n",
        "      value_list[copy] = abs(value_list[copy] - max_value_list) / (max_value_list - min_value_list)\n",
        "    for copy in range(SMP):\n",
        "      if copy > 0:\n",
        "        value_list[copy] = value_list[copy]+value_list[copy-1]\n",
        "    #print('value_list',value_list)\n",
        "    selected_value = np.random.uniform(value_list[copy],0)\n",
        "    #print('selected_value',selected_value)\n",
        "    value_list.append(selected_value)\n",
        "    value_list.sort()\n",
        "    candidate_index = value_list.index(selected_value)\n",
        "    #print(candidate_index)\n",
        "    index_list.append(candidate_index)\n",
        "    #print(\"max_value is\",max_value)\n",
        "    value_list = []\n",
        "  #print(\"index_list\",index_list)\n",
        "  #print(\"best_cat_x\",best_cat_x)\n",
        "  #print(\"best_cat_y\",best_cat_y)\n",
        "  #print(\"max_value in evaluate\", max_value)\n",
        "  print('best cat is in',best_cat_x,best_cat_y)\n",
        "  print(min_value, 'is min_value')\n",
        "  return index_list\n",
        "\n"
      ],
      "metadata": {
        "id": "nG3Rl7o8c-zw"
      },
      "execution_count": 708,
      "outputs": []
    },
    {
      "cell_type": "code",
      "source": [
        "def next_group(original_group,candidate_group,index):\n",
        "  array_shape = np.shape(original_group)\n",
        "  array_column = array_shape[1]\n",
        "  array_row = array_shape[0]\n",
        "  new_group=np.zeros((array_row,array_column))\n",
        "  #print(np.shape(new_group))\n",
        "  #print(np.shape(candidate_group))\n",
        "  #print('index',index)\n",
        "  #print('index[1:15]',index[1:15])\n",
        "  for i in range(array_column):\n",
        "    for j in range(array_row):\n",
        "      new_group[j][i] = candidate_group[i][index[i]][0][j]\n",
        "  return new_group\n"
      ],
      "metadata": {
        "id": "cPsmbj-Nq7Qy"
      },
      "execution_count": 709,
      "outputs": []
    },
    {
      "cell_type": "code",
      "source": [
        "#seeking mode initiation\n",
        "\n",
        "def tracing_velocity_initiate(group):\n",
        "  for i in range(group):\n",
        "    tracing_velocity[0][i] = np.random.uniform(max_tracing_velocity,0)\n",
        "    tracing_velocity[1][i] = np.random.uniform(max_tracing_velocity,0)\n",
        "    \n",
        "def tracing_position_initiate(group,parameters):\n",
        "  global tracing_position\n",
        "  tracing_position = initiate_cats(group,parameters)\n",
        "  \n",
        "\n",
        "\n"
      ],
      "metadata": {
        "id": "sm-p0Lr1tj9l"
      },
      "execution_count": 710,
      "outputs": []
    },
    {
      "cell_type": "code",
      "source": [
        "def trace_update(group, original_group, velocity,position,parameters):\n",
        "  global tracing_velocity, tracing_position, seeking_group\n",
        "  eking = 0\n",
        "  get_stuck_count = 0\n",
        "  get_stuck_count_threshold = 5\n",
        "  best_cat_array = np.empty((2,tracing_group_size))\n",
        "  group_value_list = []\n",
        "  for cat in range (seeking_group):\n",
        "    candidate_value=potential_field(group[0][cat],group[1][cat],original_group[0][cat],original_group[1][cat])\n",
        "    group_value_list.append(candidate_value)\n",
        "  min_group_value = min(group_value_list)\n",
        "  index_of_min_value = group_value_list.index(min_group_value) \n",
        "  best_cat_x = group[0][index_of_min_value]\n",
        "  best_cat_y = group[1][index_of_min_value]\n",
        "  for i in range(tracing_group_size):\n",
        "    best_cat_array[0][i] = best_cat_x\n",
        "    best_cat_array[1][i] = best_cat_y\n",
        "  block_count = 0\n",
        "  x_block = [parameters[0][block_count]-parameters[2][block_count], parameters[0][block_count]+parameters[3][block_count]] #coordiantes of left and right boundary of blocks\n",
        "  y_block = [parameters[1][block_count]-parameters[4][block_count], parameters[1][block_count]+parameters[5][block_count]] #coordiantes of down and up boundary of blocks\n",
        "  while block_count < block_num:\n",
        "    tracing_velocity_temporary = velocity + c * np.random.random()*(best_cat_array-position)\n",
        "    index1 = np.where(tracing_velocity_temporary>max_tracing_velocity)\n",
        "    index2 = np.where(tracing_velocity_temporary<-max_tracing_velocity)\n",
        "    tracing_velocity_temporary[index1] = max_tracing_velocity\n",
        "    tracing_velocity_temporary[index2] = -max_tracing_velocity\n",
        "    #print(\"tracing_position\",position)\n",
        "    #print(\"best_cat_array\",best_cat_array)\n",
        "    tracing_position_temporary = position + tracing_velocity_temporary\n",
        "      # constraint on positions\n",
        "    for i in range(tracing_group_size):\n",
        "      if tracing_position_temporary[0][i] > area[1]:\n",
        "        tracing_position_temporary[0][i] = area[1]\n",
        "      elif tracing_position_temporary[0][i] < area[0]:\n",
        "        tracing_position_temporary[0][i] = area[0]\n",
        "      if tracing_position_temporary[1][i] > area[3]:\n",
        "        tracing_position_temporary[1][i] = area[3]\n",
        "      elif tracing_position_temporary[1][i] < area[2]:\n",
        "        tracing_position_temporary[1][i] = area[2]\n",
        "    #index3 = np.where(tracing_position > area[1])\n",
        "    #index4 = np.where(tracing_position < area[0])\n",
        "    #tracing_position[index3] = area[1]\n",
        "    #tracing_position[index4] = area[0]\n",
        "    #print('block count is ',block_count)\n",
        "    #print(tracing_position,' is tracing position.')\n",
        "    for tracing_cat_count in range(tracing_group_size):\n",
        "      \n",
        "      #print('tracing_group_size',tracing_group_size)\n",
        "      if x_block[0]<tracing_position_temporary[0][tracing_cat_count]<x_block[1] and y_block[0]<tracing_position_temporary[1][tracing_cat_count]<y_block[1]:\n",
        "        #print('x_block is ',x_block)\n",
        "        #print('y_block is', y_block)\n",
        "        #print('tracing_position[0][tracing_cat_count]',tracing_position[0][tracing_cat_count])\n",
        "        #print('tracing_position[1][tracing_cat_count]',tracing_position[1][tracing_cat_count])\n",
        "        #print(tracing_cat_count, ' is tracing_cat_count and coverd by block',block_count)\n",
        "        block_count = 0\n",
        "        get_stuck_count = get_stuck_count + 1\n",
        "        break\n",
        "    if get_stuck_count == get_stuck_count_threshold:\n",
        "      print('get stuck !!!')\n",
        "      break\n",
        "    #print('tracing_cat_count',tracing_cat_count)\n",
        "    if tracing_cat_count == tracing_group_size-1:\n",
        "      #print('Not in block ',block_count)\n",
        "      block_count = block_count + 1\n",
        "    #print(tracing_position)\n",
        "    #print(\"tracing_velocity\",tracing_velocity)\n",
        "  tracing_velocity = tracing_velocity_temporary\n",
        "  tracing_position = tracing_position_temporary\n"
      ],
      "metadata": {
        "id": "FZM-Q53GMprG"
      },
      "execution_count": 711,
      "outputs": []
    },
    {
      "cell_type": "code",
      "source": [
        "def initiate_all(parameters):\n",
        "  cats=initiate_cats(seeking_group,parameters)\n",
        "  #print(cats)\n",
        "  #print(generate_candidate(cats))\n",
        "\n",
        "  \n",
        "  tracing_velocity_initiate(tracing_group_size)\n",
        "  #print(tracing_velocity)\n",
        "  tracing_position_initiate(tracing_group_size,parameters)\n",
        "  #print(tracing_position)\n",
        "  return cats\n"
      ],
      "metadata": {
        "id": "q2o6VmoOd1Nn"
      },
      "execution_count": 712,
      "outputs": []
    },
    {
      "cell_type": "code",
      "source": [
        "#def main():\n",
        "import numpy as np\n",
        "import matplotlib.pyplot as plt\n",
        "from matplotlib.path import Path\n",
        "import matplotlib.patches as patches\n",
        "\n",
        "\n",
        "generate_block()\n",
        "initiate_targets()\n",
        "plot_block(block_parameters) \n",
        "plot_danger_area(block_influence_range_parameters) \n",
        "plt.show()\n",
        "last_min_value = 100\n",
        "cats = initiate_all(block_parameters)\n",
        "stable_num = 0\n",
        "\n",
        "for i in range(iteration):\n",
        "  plot_block(block_parameters) \n",
        "  plot_danger_area(block_influence_range_parameters)\n",
        "  plt.plot(cats[0,:],cats[1,0:],'+')\n",
        "  plt.plot(tracing_position[0,:],tracing_position[1,:],'x',)\n",
        "  plt.plot(targets_location[0,:],targets_location[1,:],'*',)\n",
        "  plt.show()\n",
        "  fig = plt.figure()\n",
        "  print('targets_location is ',targets_location)\n",
        "  candidates = generate_candidate(cats,block_parameters)\n",
        "  new_group_index = evaluate(candidates,cats)\n",
        "  #print('new_group_index',new_group_index)\n",
        "  new_cats= next_group(cats,candidates,new_group_index)\n",
        "  #print(new_cats)\n",
        "  trace_update(new_cats, cats, tracing_velocity,tracing_position,block_parameters)\n",
        "  cats = new_cats\n",
        "  total = np.hstack((cats,tracing_position))\n",
        "  total_index = np.arange(seeking_group + tracing_group_size)\n",
        "  np.random.shuffle(total_index)\n",
        "  cats = total[:,total_index[0:seeking_group]]\n",
        "  #print(\"cats\",cats)\n",
        "  tracing_position = total[:,total_index[seeking_group:seeking_group+tracing_group_size]]\n",
        "\n",
        "  print(\"stable_num\",stable_num)\n",
        "  print(\"iteration\",i)\n",
        "  print(\"fitness is\")\n",
        "  print(min_value)  \n",
        "#if __name__ == \"__main__\":\n",
        "#    main()"
      ],
      "metadata": {
        "id": "uzMqAVlKayW3",
        "colab": {
          "base_uri": "https://localhost:8080/",
          "height": 1000
        },
        "outputId": "f15fde01-8e92-4a6b-9f86-0d03f3218119"
      },
      "execution_count": 713,
      "outputs": [
        {
          "output_type": "stream",
          "name": "stderr",
          "text": [
            "/usr/local/lib/python3.7/dist-packages/ipykernel_launcher.py:61: MatplotlibDeprecationWarning: Adding an axes using the same arguments as a previous axes currently reuses the earlier instance.  In a future version, a new instance will always be created and returned.  Meanwhile, this warning can be suppressed, and the future behavior ensured, by passing a unique label to each axes instance.\n",
            "/usr/local/lib/python3.7/dist-packages/ipykernel_launcher.py:83: MatplotlibDeprecationWarning: Adding an axes using the same arguments as a previous axes currently reuses the earlier instance.  In a future version, a new instance will always be created and returned.  Meanwhile, this warning can be suppressed, and the future behavior ensured, by passing a unique label to each axes instance.\n"
          ]
        },
        {
          "output_type": "display_data",
          "data": {
            "text/plain": [
              "<Figure size 432x288 with 1 Axes>"
            ],
            "image/png": "[encoded data removed]"
          },
          "metadata": {
            "needs_background": "light"
          }
        },
        {
          "output_type": "stream",
          "name": "stdout",
          "text": [
            "targets_location is  [[4.83972751]\n",
            " [5.82554686]]\n",
            "Start evaluating\n",
            "best cat is in 3.61309209321137 7.494182638253869\n",
            "42.88979806721435 is min_value\n",
            "stable_num 0\n",
            "iteration 0\n",
            "fitness is\n",
            "42.88979806721435\n"
          ]
        },
        {
          "output_type": "stream",
          "name": "stderr",
          "text": [
            "/usr/local/lib/python3.7/dist-packages/ipykernel_launcher.py:61: MatplotlibDeprecationWarning: Adding an axes using the same arguments as a previous axes currently reuses the earlier instance.  In a future version, a new instance will always be created and returned.  Meanwhile, this warning can be suppressed, and the future behavior ensured, by passing a unique label to each axes instance.\n",
            "/usr/local/lib/python3.7/dist-packages/ipykernel_launcher.py:83: MatplotlibDeprecationWarning: Adding an axes using the same arguments as a previous axes currently reuses the earlier instance.  In a future version, a new instance will always be created and returned.  Meanwhile, this warning can be suppressed, and the future behavior ensured, by passing a unique label to each axes instance.\n"
          ]
        },
        {
          "output_type": "display_data",
          "data": {
            "text/plain": [
              "<Figure size 432x288 with 1 Axes>"
            ],
            "image/png": "[encoded data removed]"
          },
          "metadata": {
            "needs_background": "light"
          }
        },
        {
          "output_type": "stream",
          "name": "stdout",
          "text": [
            "targets_location is  [[4.83972751]\n",
            " [5.82554686]]\n",
            "Start evaluating\n",
            "best cat is in 3.971130647497805 4.444377497010641\n",
            "26.620893136309093 is min_value\n",
            "stable_num 0\n",
            "iteration 1\n",
            "fitness is\n",
            "26.620893136309093\n"
          ]
        },
        {
          "output_type": "stream",
          "name": "stderr",
          "text": [
            "/usr/local/lib/python3.7/dist-packages/ipykernel_launcher.py:61: MatplotlibDeprecationWarning: Adding an axes using the same arguments as a previous axes currently reuses the earlier instance.  In a future version, a new instance will always be created and returned.  Meanwhile, this warning can be suppressed, and the future behavior ensured, by passing a unique label to each axes instance.\n",
            "/usr/local/lib/python3.7/dist-packages/ipykernel_launcher.py:83: MatplotlibDeprecationWarning: Adding an axes using the same arguments as a previous axes currently reuses the earlier instance.  In a future version, a new instance will always be created and returned.  Meanwhile, this warning can be suppressed, and the future behavior ensured, by passing a unique label to each axes instance.\n"
          ]
        },
        {
          "output_type": "display_data",
          "data": {
            "text/plain": [
              "<Figure size 432x288 with 1 Axes>"
            ],
            "image/png": "[encoded data removed]"
          },
          "metadata": {
            "needs_background": "light"
          }
        },
        {
          "output_type": "stream",
          "name": "stdout",
          "text": [
            "targets_location is  [[4.83972751]\n",
            " [5.82554686]]\n",
            "Start evaluating\n",
            "best cat is in 4.237626574079958 10.194944162305243\n",
            "194.54158330385266 is min_value\n",
            "stable_num 0\n",
            "iteration 2\n",
            "fitness is\n",
            "194.54158330385266\n"
          ]
        },
        {
          "output_type": "stream",
          "name": "stderr",
          "text": [
            "/usr/local/lib/python3.7/dist-packages/ipykernel_launcher.py:61: MatplotlibDeprecationWarning: Adding an axes using the same arguments as a previous axes currently reuses the earlier instance.  In a future version, a new instance will always be created and returned.  Meanwhile, this warning can be suppressed, and the future behavior ensured, by passing a unique label to each axes instance.\n",
            "/usr/local/lib/python3.7/dist-packages/ipykernel_launcher.py:83: MatplotlibDeprecationWarning: Adding an axes using the same arguments as a previous axes currently reuses the earlier instance.  In a future version, a new instance will always be created and returned.  Meanwhile, this warning can be suppressed, and the future behavior ensured, by passing a unique label to each axes instance.\n"
          ]
        },
        {
          "output_type": "display_data",
          "data": {
            "text/plain": [
              "<Figure size 432x288 with 1 Axes>"
            ],
            "image/png": "[encoded data removed]"
          },
          "metadata": {
            "needs_background": "light"
          }
        },
        {
          "output_type": "stream",
          "name": "stdout",
          "text": [
            "targets_location is  [[4.83972751]\n",
            " [5.82554686]]\n",
            "Start evaluating\n",
            "best cat is in 2.6423238071915547 8.621100569936958\n",
            "126.43703578792397 is min_value\n",
            "stable_num 0\n",
            "iteration 3\n",
            "fitness is\n",
            "126.43703578792397\n"
          ]
        },
        {
          "output_type": "stream",
          "name": "stderr",
          "text": [
            "/usr/local/lib/python3.7/dist-packages/ipykernel_launcher.py:61: MatplotlibDeprecationWarning: Adding an axes using the same arguments as a previous axes currently reuses the earlier instance.  In a future version, a new instance will always be created and returned.  Meanwhile, this warning can be suppressed, and the future behavior ensured, by passing a unique label to each axes instance.\n",
            "/usr/local/lib/python3.7/dist-packages/ipykernel_launcher.py:83: MatplotlibDeprecationWarning: Adding an axes using the same arguments as a previous axes currently reuses the earlier instance.  In a future version, a new instance will always be created and returned.  Meanwhile, this warning can be suppressed, and the future behavior ensured, by passing a unique label to each axes instance.\n"
          ]
        },
        {
          "output_type": "display_data",
          "data": {
            "text/plain": [
              "<Figure size 432x288 with 1 Axes>"
            ],
            "image/png": "[encoded data removed]"
          },
          "metadata": {
            "needs_background": "light"
          }
        },
        {
          "output_type": "stream",
          "name": "stdout",
          "text": [
            "targets_location is  [[4.83972751]\n",
            " [5.82554686]]\n",
            "Start evaluating\n",
            "best cat is in 0.9500627135979668 11.316209577392298\n",
            "452.7686930665129 is min_value\n",
            "stable_num 0\n",
            "iteration 4\n",
            "fitness is\n",
            "452.7686930665129\n"
          ]
        },
        {
          "output_type": "stream",
          "name": "stderr",
          "text": [
            "/usr/local/lib/python3.7/dist-packages/ipykernel_launcher.py:61: MatplotlibDeprecationWarning: Adding an axes using the same arguments as a previous axes currently reuses the earlier instance.  In a future version, a new instance will always be created and returned.  Meanwhile, this warning can be suppressed, and the future behavior ensured, by passing a unique label to each axes instance.\n",
            "/usr/local/lib/python3.7/dist-packages/ipykernel_launcher.py:83: MatplotlibDeprecationWarning: Adding an axes using the same arguments as a previous axes currently reuses the earlier instance.  In a future version, a new instance will always be created and returned.  Meanwhile, this warning can be suppressed, and the future behavior ensured, by passing a unique label to each axes instance.\n"
          ]
        },
        {
          "output_type": "display_data",
          "data": {
            "text/plain": [
              "<Figure size 432x288 with 1 Axes>"
            ],
            "image/png": "[encoded data removed]"
          },
          "metadata": {
            "needs_background": "light"
          }
        },
        {
          "output_type": "stream",
          "name": "stdout",
          "text": [
            "targets_location is  [[4.83972751]\n",
            " [5.82554686]]\n",
            "Start evaluating\n",
            "best cat is in 6.184129744319696 7.5694764856015855\n",
            "48.487079138557185 is min_value\n",
            "stable_num 0\n",
            "iteration 5\n",
            "fitness is\n",
            "48.487079138557185\n"
          ]
        },
        {
          "output_type": "stream",
          "name": "stderr",
          "text": [
            "/usr/local/lib/python3.7/dist-packages/ipykernel_launcher.py:61: MatplotlibDeprecationWarning: Adding an axes using the same arguments as a previous axes currently reuses the earlier instance.  In a future version, a new instance will always be created and returned.  Meanwhile, this warning can be suppressed, and the future behavior ensured, by passing a unique label to each axes instance.\n",
            "/usr/local/lib/python3.7/dist-packages/ipykernel_launcher.py:83: MatplotlibDeprecationWarning: Adding an axes using the same arguments as a previous axes currently reuses the earlier instance.  In a future version, a new instance will always be created and returned.  Meanwhile, this warning can be suppressed, and the future behavior ensured, by passing a unique label to each axes instance.\n"
          ]
        },
        {
          "output_type": "display_data",
          "data": {
            "text/plain": [
              "<Figure size 432x288 with 1 Axes>"
            ],
            "image/png": "[encoded data removed]"
          },
          "metadata": {
            "needs_background": "light"
          }
        },
        {
          "output_type": "stream",
          "name": "stdout",
          "text": [
            "targets_location is  [[4.83972751]\n",
            " [5.82554686]]\n",
            "Start evaluating\n",
            "best cat is in 4.692153276246174 9.711305019929014\n",
            "155.03398954227958 is min_value\n",
            "stable_num 0\n",
            "iteration 6\n",
            "fitness is\n",
            "155.03398954227958\n"
          ]
        },
        {
          "output_type": "stream",
          "name": "stderr",
          "text": [
            "/usr/local/lib/python3.7/dist-packages/ipykernel_launcher.py:61: MatplotlibDeprecationWarning: Adding an axes using the same arguments as a previous axes currently reuses the earlier instance.  In a future version, a new instance will always be created and returned.  Meanwhile, this warning can be suppressed, and the future behavior ensured, by passing a unique label to each axes instance.\n",
            "/usr/local/lib/python3.7/dist-packages/ipykernel_launcher.py:83: MatplotlibDeprecationWarning: Adding an axes using the same arguments as a previous axes currently reuses the earlier instance.  In a future version, a new instance will always be created and returned.  Meanwhile, this warning can be suppressed, and the future behavior ensured, by passing a unique label to each axes instance.\n"
          ]
        },
        {
          "output_type": "display_data",
          "data": {
            "text/plain": [
              "<Figure size 432x288 with 1 Axes>"
            ],
            "image/png": "[encoded data removed]"
          },
          "metadata": {
            "needs_background": "light"
          }
        },
        {
          "output_type": "stream",
          "name": "stdout",
          "text": [
            "targets_location is  [[4.83972751]\n",
            " [5.82554686]]\n",
            "Start evaluating\n",
            "best cat is in 4.640495546900523 5.302062724130071\n",
            "3.137290139922149 is min_value\n",
            "stable_num 0\n",
            "iteration 7\n",
            "fitness is\n",
            "3.137290139922149\n"
          ]
        },
        {
          "output_type": "stream",
          "name": "stderr",
          "text": [
            "/usr/local/lib/python3.7/dist-packages/ipykernel_launcher.py:61: MatplotlibDeprecationWarning: Adding an axes using the same arguments as a previous axes currently reuses the earlier instance.  In a future version, a new instance will always be created and returned.  Meanwhile, this warning can be suppressed, and the future behavior ensured, by passing a unique label to each axes instance.\n",
            "/usr/local/lib/python3.7/dist-packages/ipykernel_launcher.py:83: MatplotlibDeprecationWarning: Adding an axes using the same arguments as a previous axes currently reuses the earlier instance.  In a future version, a new instance will always be created and returned.  Meanwhile, this warning can be suppressed, and the future behavior ensured, by passing a unique label to each axes instance.\n"
          ]
        },
        {
          "output_type": "display_data",
          "data": {
            "text/plain": [
              "<Figure size 432x288 with 1 Axes>"
            ],
            "image/png": "[encoded data removed]"
          },
          "metadata": {
            "needs_background": "light"
          }
        },
        {
          "output_type": "stream",
          "name": "stdout",
          "text": [
            "targets_location is  [[4.83972751]\n",
            " [5.82554686]]\n",
            "Start evaluating\n",
            "best cat is in 3.165542562160276 3.6493552245202827\n",
            "75.38705264977635 is min_value\n",
            "stable_num 0\n",
            "iteration 8\n",
            "fitness is\n",
            "75.38705264977635\n"
          ]
        },
        {
          "output_type": "stream",
          "name": "stderr",
          "text": [
            "/usr/local/lib/python3.7/dist-packages/ipykernel_launcher.py:61: MatplotlibDeprecationWarning: Adding an axes using the same arguments as a previous axes currently reuses the earlier instance.  In a future version, a new instance will always be created and returned.  Meanwhile, this warning can be suppressed, and the future behavior ensured, by passing a unique label to each axes instance.\n",
            "/usr/local/lib/python3.7/dist-packages/ipykernel_launcher.py:83: MatplotlibDeprecationWarning: Adding an axes using the same arguments as a previous axes currently reuses the earlier instance.  In a future version, a new instance will always be created and returned.  Meanwhile, this warning can be suppressed, and the future behavior ensured, by passing a unique label to each axes instance.\n"
          ]
        },
        {
          "output_type": "display_data",
          "data": {
            "text/plain": [
              "<Figure size 432x288 with 1 Axes>"
            ],
            "image/png": "[encoded data removed]"
          },
          "metadata": {
            "needs_background": "light"
          }
        },
        {
          "output_type": "stream",
          "name": "stdout",
          "text": [
            "targets_location is  [[4.83972751]\n",
            " [5.82554686]]\n",
            "Start evaluating\n",
            "best cat is in 4.617541177926783 3.2296112377549573\n",
            "67.8824851481511 is min_value\n",
            "stable_num 0\n",
            "iteration 9\n",
            "fitness is\n",
            "67.8824851481511\n"
          ]
        },
        {
          "output_type": "stream",
          "name": "stderr",
          "text": [
            "/usr/local/lib/python3.7/dist-packages/ipykernel_launcher.py:61: MatplotlibDeprecationWarning: Adding an axes using the same arguments as a previous axes currently reuses the earlier instance.  In a future version, a new instance will always be created and returned.  Meanwhile, this warning can be suppressed, and the future behavior ensured, by passing a unique label to each axes instance.\n",
            "/usr/local/lib/python3.7/dist-packages/ipykernel_launcher.py:83: MatplotlibDeprecationWarning: Adding an axes using the same arguments as a previous axes currently reuses the earlier instance.  In a future version, a new instance will always be created and returned.  Meanwhile, this warning can be suppressed, and the future behavior ensured, by passing a unique label to each axes instance.\n"
          ]
        },
        {
          "output_type": "display_data",
          "data": {
            "text/plain": [
              "<Figure size 432x288 with 1 Axes>"
            ],
            "image/png": "[encoded data removed]"
          },
          "metadata": {
            "needs_background": "light"
          }
        },
        {
          "output_type": "stream",
          "name": "stdout",
          "text": [
            "targets_location is  [[4.83972751]\n",
            " [5.82554686]]\n",
            "Start evaluating\n",
            "best cat is in 7.43113350005568 7.524485392844125\n",
            "96.01777153878423 is min_value\n",
            "stable_num 0\n",
            "iteration 10\n",
            "fitness is\n",
            "96.01777153878423\n"
          ]
        },
        {
          "output_type": "stream",
          "name": "stderr",
          "text": [
            "/usr/local/lib/python3.7/dist-packages/ipykernel_launcher.py:61: MatplotlibDeprecationWarning: Adding an axes using the same arguments as a previous axes currently reuses the earlier instance.  In a future version, a new instance will always be created and returned.  Meanwhile, this warning can be suppressed, and the future behavior ensured, by passing a unique label to each axes instance.\n",
            "/usr/local/lib/python3.7/dist-packages/ipykernel_launcher.py:83: MatplotlibDeprecationWarning: Adding an axes using the same arguments as a previous axes currently reuses the earlier instance.  In a future version, a new instance will always be created and returned.  Meanwhile, this warning can be suppressed, and the future behavior ensured, by passing a unique label to each axes instance.\n"
          ]
        },
        {
          "output_type": "display_data",
          "data": {
            "text/plain": [
              "<Figure size 432x288 with 1 Axes>"
            ],
            "image/png": "[encoded data removed]"
          },
          "metadata": {
            "needs_background": "light"
          }
        },
        {
          "output_type": "stream",
          "name": "stdout",
          "text": [
            "targets_location is  [[4.83972751]\n",
            " [5.82554686]]\n",
            "Start evaluating\n",
            "best cat is in 3.2341612286485675 7.041302325039543\n",
            "40.559044331839104 is min_value\n",
            "stable_num 0\n",
            "iteration 11\n",
            "fitness is\n",
            "40.559044331839104\n"
          ]
        },
        {
          "output_type": "stream",
          "name": "stderr",
          "text": [
            "/usr/local/lib/python3.7/dist-packages/ipykernel_launcher.py:61: MatplotlibDeprecationWarning: Adding an axes using the same arguments as a previous axes currently reuses the earlier instance.  In a future version, a new instance will always be created and returned.  Meanwhile, this warning can be suppressed, and the future behavior ensured, by passing a unique label to each axes instance.\n",
            "/usr/local/lib/python3.7/dist-packages/ipykernel_launcher.py:83: MatplotlibDeprecationWarning: Adding an axes using the same arguments as a previous axes currently reuses the earlier instance.  In a future version, a new instance will always be created and returned.  Meanwhile, this warning can be suppressed, and the future behavior ensured, by passing a unique label to each axes instance.\n"
          ]
        },
        {
          "output_type": "display_data",
          "data": {
            "text/plain": [
              "<Figure size 432x288 with 1 Axes>"
            ],
            "image/png": "[encoded data removed]"
          },
          "metadata": {
            "needs_background": "light"
          }
        },
        {
          "output_type": "stream",
          "name": "stdout",
          "text": [
            "targets_location is  [[4.83972751]\n",
            " [5.82554686]]\n",
            "Start evaluating\n",
            "best cat is in 3.3953580640488004 9.335619920371672\n",
            "145.90677482163662 is min_value\n",
            "stable_num 0\n",
            "iteration 12\n",
            "fitness is\n",
            "145.90677482163662\n"
          ]
        },
        {
          "output_type": "stream",
          "name": "stderr",
          "text": [
            "/usr/local/lib/python3.7/dist-packages/ipykernel_launcher.py:61: MatplotlibDeprecationWarning: Adding an axes using the same arguments as a previous axes currently reuses the earlier instance.  In a future version, a new instance will always be created and returned.  Meanwhile, this warning can be suppressed, and the future behavior ensured, by passing a unique label to each axes instance.\n",
            "/usr/local/lib/python3.7/dist-packages/ipykernel_launcher.py:83: MatplotlibDeprecationWarning: Adding an axes using the same arguments as a previous axes currently reuses the earlier instance.  In a future version, a new instance will always be created and returned.  Meanwhile, this warning can be suppressed, and the future behavior ensured, by passing a unique label to each axes instance.\n"
          ]
        },
        {
          "output_type": "display_data",
          "data": {
            "text/plain": [
              "<Figure size 432x288 with 1 Axes>"
            ],
            "image/png": "[encoded data removed]"
          },
          "metadata": {
            "needs_background": "light"
          }
        },
        {
          "output_type": "stream",
          "name": "stdout",
          "text": [
            "targets_location is  [[4.83972751]\n",
            " [5.82554686]]\n",
            "Start evaluating\n",
            "best cat is in 3.6791087842990122 4.634972119935768\n",
            "27.645040326273982 is min_value\n",
            "stable_num 0\n",
            "iteration 13\n",
            "fitness is\n",
            "27.645040326273982\n"
          ]
        },
        {
          "output_type": "stream",
          "name": "stderr",
          "text": [
            "/usr/local/lib/python3.7/dist-packages/ipykernel_launcher.py:61: MatplotlibDeprecationWarning: Adding an axes using the same arguments as a previous axes currently reuses the earlier instance.  In a future version, a new instance will always be created and returned.  Meanwhile, this warning can be suppressed, and the future behavior ensured, by passing a unique label to each axes instance.\n",
            "/usr/local/lib/python3.7/dist-packages/ipykernel_launcher.py:83: MatplotlibDeprecationWarning: Adding an axes using the same arguments as a previous axes currently reuses the earlier instance.  In a future version, a new instance will always be created and returned.  Meanwhile, this warning can be suppressed, and the future behavior ensured, by passing a unique label to each axes instance.\n"
          ]
        },
        {
          "output_type": "display_data",
          "data": {
            "text/plain": [
              "<Figure size 432x288 with 1 Axes>"
            ],
            "image/png": "[encoded data removed]"
          },
          "metadata": {
            "needs_background": "light"
          }
        },
        {
          "output_type": "stream",
          "name": "stdout",
          "text": [
            "targets_location is  [[4.83972751]\n",
            " [5.82554686]]\n",
            "Start evaluating\n",
            "best cat is in 9.544132562458891 5.503664563984442\n",
            "222.35035121221648 is min_value\n",
            "stable_num 0\n",
            "iteration 14\n",
            "fitness is\n",
            "222.35035121221648\n"
          ]
        },
        {
          "output_type": "stream",
          "name": "stderr",
          "text": [
            "/usr/local/lib/python3.7/dist-packages/ipykernel_launcher.py:61: MatplotlibDeprecationWarning: Adding an axes using the same arguments as a previous axes currently reuses the earlier instance.  In a future version, a new instance will always be created and returned.  Meanwhile, this warning can be suppressed, and the future behavior ensured, by passing a unique label to each axes instance.\n",
            "/usr/local/lib/python3.7/dist-packages/ipykernel_launcher.py:83: MatplotlibDeprecationWarning: Adding an axes using the same arguments as a previous axes currently reuses the earlier instance.  In a future version, a new instance will always be created and returned.  Meanwhile, this warning can be suppressed, and the future behavior ensured, by passing a unique label to each axes instance.\n"
          ]
        },
        {
          "output_type": "display_data",
          "data": {
            "text/plain": [
              "<Figure size 432x288 with 1 Axes>"
            ],
            "image/png": "[encoded data removed]"
          },
          "metadata": {
            "needs_background": "light"
          }
        },
        {
          "output_type": "stream",
          "name": "stdout",
          "text": [
            "targets_location is  [[4.83972751]\n",
            " [5.82554686]]\n",
            "Start evaluating\n",
            "best cat is in 4.757812403282598 6.180682553673766\n",
            "1.3283144619348115 is min_value\n",
            "stable_num 0\n",
            "iteration 15\n",
            "fitness is\n",
            "1.3283144619348115\n"
          ]
        },
        {
          "output_type": "stream",
          "name": "stderr",
          "text": [
            "/usr/local/lib/python3.7/dist-packages/ipykernel_launcher.py:61: MatplotlibDeprecationWarning: Adding an axes using the same arguments as a previous axes currently reuses the earlier instance.  In a future version, a new instance will always be created and returned.  Meanwhile, this warning can be suppressed, and the future behavior ensured, by passing a unique label to each axes instance.\n",
            "/usr/local/lib/python3.7/dist-packages/ipykernel_launcher.py:83: MatplotlibDeprecationWarning: Adding an axes using the same arguments as a previous axes currently reuses the earlier instance.  In a future version, a new instance will always be created and returned.  Meanwhile, this warning can be suppressed, and the future behavior ensured, by passing a unique label to each axes instance.\n"
          ]
        },
        {
          "output_type": "display_data",
          "data": {
            "text/plain": [
              "<Figure size 432x288 with 1 Axes>"
            ],
            "image/png": "[encoded data removed]"
          },
          "metadata": {
            "needs_background": "light"
          }
        },
        {
          "output_type": "stream",
          "name": "stdout",
          "text": [
            "targets_location is  [[4.83972751]\n",
            " [5.82554686]]\n",
            "Start evaluating\n",
            "best cat is in 10.940714757964287 8.348476556668114\n",
            "435.8721967496394 is min_value\n",
            "stable_num 0\n",
            "iteration 16\n",
            "fitness is\n",
            "435.8721967496394\n"
          ]
        },
        {
          "output_type": "stream",
          "name": "stderr",
          "text": [
            "/usr/local/lib/python3.7/dist-packages/ipykernel_launcher.py:61: MatplotlibDeprecationWarning: Adding an axes using the same arguments as a previous axes currently reuses the earlier instance.  In a future version, a new instance will always be created and returned.  Meanwhile, this warning can be suppressed, and the future behavior ensured, by passing a unique label to each axes instance.\n",
            "/usr/local/lib/python3.7/dist-packages/ipykernel_launcher.py:83: MatplotlibDeprecationWarning: Adding an axes using the same arguments as a previous axes currently reuses the earlier instance.  In a future version, a new instance will always be created and returned.  Meanwhile, this warning can be suppressed, and the future behavior ensured, by passing a unique label to each axes instance.\n"
          ]
        },
        {
          "output_type": "display_data",
          "data": {
            "text/plain": [
              "<Figure size 432x288 with 1 Axes>"
            ],
            "image/png": "[encoded data removed]"
          },
          "metadata": {
            "needs_background": "light"
          }
        },
        {
          "output_type": "stream",
          "name": "stdout",
          "text": [
            "targets_location is  [[4.83972751]\n",
            " [5.82554686]]\n",
            "Start evaluating\n",
            "best cat is in 7.818888125720373 11.312395512557336\n",
            "390.11206567566734 is min_value\n",
            "stable_num 0\n",
            "iteration 17\n",
            "fitness is\n",
            "390.11206567566734\n"
          ]
        },
        {
          "output_type": "stream",
          "name": "stderr",
          "text": [
            "/usr/local/lib/python3.7/dist-packages/ipykernel_launcher.py:61: MatplotlibDeprecationWarning: Adding an axes using the same arguments as a previous axes currently reuses the earlier instance.  In a future version, a new instance will always be created and returned.  Meanwhile, this warning can be suppressed, and the future behavior ensured, by passing a unique label to each axes instance.\n",
            "/usr/local/lib/python3.7/dist-packages/ipykernel_launcher.py:83: MatplotlibDeprecationWarning: Adding an axes using the same arguments as a previous axes currently reuses the earlier instance.  In a future version, a new instance will always be created and returned.  Meanwhile, this warning can be suppressed, and the future behavior ensured, by passing a unique label to each axes instance.\n"
          ]
        },
        {
          "output_type": "display_data",
          "data": {
            "text/plain": [
              "<Figure size 432x288 with 1 Axes>"
            ],
            "image/png": "[encoded data removed]"
          },
          "metadata": {
            "needs_background": "light"
          }
        },
        {
          "output_type": "stream",
          "name": "stdout",
          "text": [
            "targets_location is  [[4.83972751]\n",
            " [5.82554686]]\n",
            "Start evaluating\n",
            "best cat is in 4.7136400624567205 5.89220342404341\n",
            "0.20341141785461836 is min_value\n",
            "stable_num 0\n",
            "iteration 18\n",
            "fitness is\n",
            "0.20341141785461836\n"
          ]
        },
        {
          "output_type": "stream",
          "name": "stderr",
          "text": [
            "/usr/local/lib/python3.7/dist-packages/ipykernel_launcher.py:61: MatplotlibDeprecationWarning: Adding an axes using the same arguments as a previous axes currently reuses the earlier instance.  In a future version, a new instance will always be created and returned.  Meanwhile, this warning can be suppressed, and the future behavior ensured, by passing a unique label to each axes instance.\n",
            "/usr/local/lib/python3.7/dist-packages/ipykernel_launcher.py:83: MatplotlibDeprecationWarning: Adding an axes using the same arguments as a previous axes currently reuses the earlier instance.  In a future version, a new instance will always be created and returned.  Meanwhile, this warning can be suppressed, and the future behavior ensured, by passing a unique label to each axes instance.\n"
          ]
        },
        {
          "output_type": "display_data",
          "data": {
            "text/plain": [
              "<Figure size 432x288 with 1 Axes>"
            ],
            "image/png": "[encoded data removed]"
          },
          "metadata": {
            "needs_background": "light"
          }
        },
        {
          "output_type": "stream",
          "name": "stdout",
          "text": [
            "targets_location is  [[4.83972751]\n",
            " [5.82554686]]\n",
            "Start evaluating\n",
            "best cat is in 7.672010867673261 11.083431642521946\n",
            "356.7873229073888 is min_value\n",
            "stable_num 0\n",
            "iteration 19\n",
            "fitness is\n",
            "356.7873229073888\n"
          ]
        },
        {
          "output_type": "stream",
          "name": "stderr",
          "text": [
            "/usr/local/lib/python3.7/dist-packages/ipykernel_launcher.py:61: MatplotlibDeprecationWarning: Adding an axes using the same arguments as a previous axes currently reuses the earlier instance.  In a future version, a new instance will always be created and returned.  Meanwhile, this warning can be suppressed, and the future behavior ensured, by passing a unique label to each axes instance.\n",
            "/usr/local/lib/python3.7/dist-packages/ipykernel_launcher.py:83: MatplotlibDeprecationWarning: Adding an axes using the same arguments as a previous axes currently reuses the earlier instance.  In a future version, a new instance will always be created and returned.  Meanwhile, this warning can be suppressed, and the future behavior ensured, by passing a unique label to each axes instance.\n"
          ]
        },
        {
          "output_type": "display_data",
          "data": {
            "text/plain": [
              "<Figure size 432x288 with 1 Axes>"
            ],
            "image/png": "[encoded data removed]"
          },
          "metadata": {
            "needs_background": "light"
          }
        },
        {
          "output_type": "stream",
          "name": "stderr",
          "text": [
            "/usr/local/lib/python3.7/dist-packages/ipykernel_launcher.py:61: MatplotlibDeprecationWarning: Adding an axes using the same arguments as a previous axes currently reuses the earlier instance.  In a future version, a new instance will always be created and returned.  Meanwhile, this warning can be suppressed, and the future behavior ensured, by passing a unique label to each axes instance.\n"
          ]
        },
        {
          "output_type": "stream",
          "name": "stdout",
          "text": [
            "targets_location is  [[4.83972751]\n",
            " [5.82554686]]\n",
            "Start evaluating\n",
            "best cat is in 6.18077239188948 4.678850516729026\n",
            "31.133138797997553 is min_value\n",
            "stable_num 0\n",
            "iteration 20\n",
            "fitness is\n",
            "31.133138797997553\n"
          ]
        },
        {
          "output_type": "stream",
          "name": "stderr",
          "text": [
            "/usr/local/lib/python3.7/dist-packages/ipykernel_launcher.py:83: MatplotlibDeprecationWarning: Adding an axes using the same arguments as a previous axes currently reuses the earlier instance.  In a future version, a new instance will always be created and returned.  Meanwhile, this warning can be suppressed, and the future behavior ensured, by passing a unique label to each axes instance.\n"
          ]
        },
        {
          "output_type": "display_data",
          "data": {
            "text/plain": [
              "<Figure size 432x288 with 1 Axes>"
            ],
            "image/png": "[encoded data removed]"
          },
          "metadata": {
            "needs_background": "light"
          }
        },
        {
          "output_type": "stream",
          "name": "stdout",
          "text": [
            "targets_location is  [[4.83972751]\n",
            " [5.82554686]]\n",
            "Start evaluating\n",
            "best cat is in 6.107671184120653 4.66863302762653\n",
            "29.46130776960434 is min_value\n",
            "stable_num 0\n",
            "iteration 21\n",
            "fitness is\n",
            "29.46130776960434\n"
          ]
        },
        {
          "output_type": "stream",
          "name": "stderr",
          "text": [
            "/usr/local/lib/python3.7/dist-packages/ipykernel_launcher.py:61: MatplotlibDeprecationWarning: Adding an axes using the same arguments as a previous axes currently reuses the earlier instance.  In a future version, a new instance will always be created and returned.  Meanwhile, this warning can be suppressed, and the future behavior ensured, by passing a unique label to each axes instance.\n",
            "/usr/local/lib/python3.7/dist-packages/ipykernel_launcher.py:83: MatplotlibDeprecationWarning: Adding an axes using the same arguments as a previous axes currently reuses the earlier instance.  In a future version, a new instance will always be created and returned.  Meanwhile, this warning can be suppressed, and the future behavior ensured, by passing a unique label to each axes instance.\n"
          ]
        },
        {
          "output_type": "display_data",
          "data": {
            "text/plain": [
              "<Figure size 432x288 with 1 Axes>"
            ],
            "image/png": "[encoded data removed]"
          },
          "metadata": {
            "needs_background": "light"
          }
        },
        {
          "output_type": "stream",
          "name": "stdout",
          "text": [
            "targets_location is  [[4.83972751]\n",
            " [5.82554686]]\n",
            "Start evaluating\n",
            "best cat is in 3.3674998276273755 7.307766231844536\n",
            "43.64428614526119 is min_value\n",
            "stable_num 0\n",
            "iteration 22\n",
            "fitness is\n",
            "43.64428614526119\n"
          ]
        },
        {
          "output_type": "stream",
          "name": "stderr",
          "text": [
            "/usr/local/lib/python3.7/dist-packages/ipykernel_launcher.py:61: MatplotlibDeprecationWarning: Adding an axes using the same arguments as a previous axes currently reuses the earlier instance.  In a future version, a new instance will always be created and returned.  Meanwhile, this warning can be suppressed, and the future behavior ensured, by passing a unique label to each axes instance.\n",
            "/usr/local/lib/python3.7/dist-packages/ipykernel_launcher.py:83: MatplotlibDeprecationWarning: Adding an axes using the same arguments as a previous axes currently reuses the earlier instance.  In a future version, a new instance will always be created and returned.  Meanwhile, this warning can be suppressed, and the future behavior ensured, by passing a unique label to each axes instance.\n"
          ]
        },
        {
          "output_type": "display_data",
          "data": {
            "text/plain": [
              "<Figure size 432x288 with 1 Axes>"
            ],
            "image/png": "[encoded data removed]"
          },
          "metadata": {
            "needs_background": "light"
          }
        },
        {
          "output_type": "stream",
          "name": "stdout",
          "text": [
            "targets_location is  [[4.83972751]\n",
            " [5.82554686]]\n",
            "Start evaluating\n",
            "best cat is in 5.006353415134728 4.756661660719089\n",
            "11.702797596058247 is min_value\n",
            "stable_num 0\n",
            "iteration 23\n",
            "fitness is\n",
            "11.702797596058247\n"
          ]
        },
        {
          "output_type": "stream",
          "name": "stderr",
          "text": [
            "/usr/local/lib/python3.7/dist-packages/ipykernel_launcher.py:61: MatplotlibDeprecationWarning: Adding an axes using the same arguments as a previous axes currently reuses the earlier instance.  In a future version, a new instance will always be created and returned.  Meanwhile, this warning can be suppressed, and the future behavior ensured, by passing a unique label to each axes instance.\n",
            "/usr/local/lib/python3.7/dist-packages/ipykernel_launcher.py:83: MatplotlibDeprecationWarning: Adding an axes using the same arguments as a previous axes currently reuses the earlier instance.  In a future version, a new instance will always be created and returned.  Meanwhile, this warning can be suppressed, and the future behavior ensured, by passing a unique label to each axes instance.\n"
          ]
        },
        {
          "output_type": "display_data",
          "data": {
            "text/plain": [
              "<Figure size 432x288 with 1 Axes>"
            ],
            "image/png": "[encoded data removed]"
          },
          "metadata": {
            "needs_background": "light"
          }
        },
        {
          "output_type": "stream",
          "name": "stdout",
          "text": [
            "targets_location is  [[4.83972751]\n",
            " [5.82554686]]\n",
            "Start evaluating\n",
            "best cat is in 5.0534544915088535 6.808303397201909\n",
            "10.114896367057046 is min_value\n",
            "stable_num 0\n",
            "iteration 24\n",
            "fitness is\n",
            "10.114896367057046\n"
          ]
        },
        {
          "output_type": "stream",
          "name": "stderr",
          "text": [
            "/usr/local/lib/python3.7/dist-packages/ipykernel_launcher.py:61: MatplotlibDeprecationWarning: Adding an axes using the same arguments as a previous axes currently reuses the earlier instance.  In a future version, a new instance will always be created and returned.  Meanwhile, this warning can be suppressed, and the future behavior ensured, by passing a unique label to each axes instance.\n",
            "/usr/local/lib/python3.7/dist-packages/ipykernel_launcher.py:83: MatplotlibDeprecationWarning: Adding an axes using the same arguments as a previous axes currently reuses the earlier instance.  In a future version, a new instance will always be created and returned.  Meanwhile, this warning can be suppressed, and the future behavior ensured, by passing a unique label to each axes instance.\n"
          ]
        },
        {
          "output_type": "display_data",
          "data": {
            "text/plain": [
              "<Figure size 432x288 with 1 Axes>"
            ],
            "image/png": "[encoded data removed]"
          },
          "metadata": {
            "needs_background": "light"
          }
        },
        {
          "output_type": "stream",
          "name": "stdout",
          "text": [
            "targets_location is  [[4.83972751]\n",
            " [5.82554686]]\n",
            "Start evaluating\n",
            "best cat is in 7.693014944962327 7.025331404512083\n",
            "95.80732149539956 is min_value\n",
            "stable_num 0\n",
            "iteration 25\n",
            "fitness is\n",
            "95.80732149539956\n"
          ]
        },
        {
          "output_type": "stream",
          "name": "stderr",
          "text": [
            "/usr/local/lib/python3.7/dist-packages/ipykernel_launcher.py:61: MatplotlibDeprecationWarning: Adding an axes using the same arguments as a previous axes currently reuses the earlier instance.  In a future version, a new instance will always be created and returned.  Meanwhile, this warning can be suppressed, and the future behavior ensured, by passing a unique label to each axes instance.\n",
            "/usr/local/lib/python3.7/dist-packages/ipykernel_launcher.py:83: MatplotlibDeprecationWarning: Adding an axes using the same arguments as a previous axes currently reuses the earlier instance.  In a future version, a new instance will always be created and returned.  Meanwhile, this warning can be suppressed, and the future behavior ensured, by passing a unique label to each axes instance.\n"
          ]
        },
        {
          "output_type": "display_data",
          "data": {
            "text/plain": [
              "<Figure size 432x288 with 1 Axes>"
            ],
            "image/png": "[encoded data removed]"
          },
          "metadata": {
            "needs_background": "light"
          }
        },
        {
          "output_type": "stream",
          "name": "stdout",
          "text": [
            "targets_location is  [[4.83972751]\n",
            " [5.82554686]]\n",
            "Start evaluating\n",
            "best cat is in 6.33155253590861 6.281111075887762\n",
            "24.330806674637184 is min_value\n",
            "stable_num 0\n",
            "iteration 26\n",
            "fitness is\n",
            "24.330806674637184\n"
          ]
        },
        {
          "output_type": "stream",
          "name": "stderr",
          "text": [
            "/usr/local/lib/python3.7/dist-packages/ipykernel_launcher.py:61: MatplotlibDeprecationWarning: Adding an axes using the same arguments as a previous axes currently reuses the earlier instance.  In a future version, a new instance will always be created and returned.  Meanwhile, this warning can be suppressed, and the future behavior ensured, by passing a unique label to each axes instance.\n",
            "/usr/local/lib/python3.7/dist-packages/ipykernel_launcher.py:83: MatplotlibDeprecationWarning: Adding an axes using the same arguments as a previous axes currently reuses the earlier instance.  In a future version, a new instance will always be created and returned.  Meanwhile, this warning can be suppressed, and the future behavior ensured, by passing a unique label to each axes instance.\n"
          ]
        },
        {
          "output_type": "display_data",
          "data": {
            "text/plain": [
              "<Figure size 432x288 with 1 Axes>"
            ],
            "image/png": "[encoded data removed]"
          },
          "metadata": {
            "needs_background": "light"
          }
        },
        {
          "output_type": "stream",
          "name": "stdout",
          "text": [
            "targets_location is  [[4.83972751]\n",
            " [5.82554686]]\n",
            "Start evaluating\n",
            "best cat is in 4.438114151653396 6.339942610578716\n",
            "4.2589627792094715 is min_value\n",
            "stable_num 0\n",
            "iteration 27\n",
            "fitness is\n",
            "4.2589627792094715\n"
          ]
        },
        {
          "output_type": "stream",
          "name": "stderr",
          "text": [
            "/usr/local/lib/python3.7/dist-packages/ipykernel_launcher.py:61: MatplotlibDeprecationWarning: Adding an axes using the same arguments as a previous axes currently reuses the earlier instance.  In a future version, a new instance will always be created and returned.  Meanwhile, this warning can be suppressed, and the future behavior ensured, by passing a unique label to each axes instance.\n",
            "/usr/local/lib/python3.7/dist-packages/ipykernel_launcher.py:83: MatplotlibDeprecationWarning: Adding an axes using the same arguments as a previous axes currently reuses the earlier instance.  In a future version, a new instance will always be created and returned.  Meanwhile, this warning can be suppressed, and the future behavior ensured, by passing a unique label to each axes instance.\n"
          ]
        },
        {
          "output_type": "display_data",
          "data": {
            "text/plain": [
              "<Figure size 432x288 with 1 Axes>"
            ],
            "image/png": "[encoded data removed]"
          },
          "metadata": {
            "needs_background": "light"
          }
        },
        {
          "output_type": "stream",
          "name": "stdout",
          "text": [
            "targets_location is  [[4.83972751]\n",
            " [5.82554686]]\n",
            "Start evaluating\n",
            "best cat is in 5.606000590993798 8.862179939937958\n",
            "103.18771923434525 is min_value\n",
            "stable_num 0\n",
            "iteration 28\n",
            "fitness is\n",
            "103.18771923434525\n"
          ]
        },
        {
          "output_type": "stream",
          "name": "stderr",
          "text": [
            "/usr/local/lib/python3.7/dist-packages/ipykernel_launcher.py:61: MatplotlibDeprecationWarning: Adding an axes using the same arguments as a previous axes currently reuses the earlier instance.  In a future version, a new instance will always be created and returned.  Meanwhile, this warning can be suppressed, and the future behavior ensured, by passing a unique label to each axes instance.\n",
            "/usr/local/lib/python3.7/dist-packages/ipykernel_launcher.py:83: MatplotlibDeprecationWarning: Adding an axes using the same arguments as a previous axes currently reuses the earlier instance.  In a future version, a new instance will always be created and returned.  Meanwhile, this warning can be suppressed, and the future behavior ensured, by passing a unique label to each axes instance.\n"
          ]
        },
        {
          "output_type": "display_data",
          "data": {
            "text/plain": [
              "<Figure size 432x288 with 1 Axes>"
            ],
            "image/png": "[encoded data removed]"
          },
          "metadata": {
            "needs_background": "light"
          }
        },
        {
          "output_type": "stream",
          "name": "stdout",
          "text": [
            "targets_location is  [[4.83972751]\n",
            " [5.82554686]]\n",
            "Start evaluating\n",
            "best cat is in 4.280121080820817 5.164944624942548\n",
            "7.495546657023614 is min_value\n",
            "stable_num 0\n",
            "iteration 29\n",
            "fitness is\n",
            "7.495546657023614\n"
          ]
        },
        {
          "output_type": "stream",
          "name": "stderr",
          "text": [
            "/usr/local/lib/python3.7/dist-packages/ipykernel_launcher.py:61: MatplotlibDeprecationWarning: Adding an axes using the same arguments as a previous axes currently reuses the earlier instance.  In a future version, a new instance will always be created and returned.  Meanwhile, this warning can be suppressed, and the future behavior ensured, by passing a unique label to each axes instance.\n",
            "/usr/local/lib/python3.7/dist-packages/ipykernel_launcher.py:83: MatplotlibDeprecationWarning: Adding an axes using the same arguments as a previous axes currently reuses the earlier instance.  In a future version, a new instance will always be created and returned.  Meanwhile, this warning can be suppressed, and the future behavior ensured, by passing a unique label to each axes instance.\n"
          ]
        },
        {
          "output_type": "display_data",
          "data": {
            "text/plain": [
              "<Figure size 432x288 with 1 Axes>"
            ],
            "image/png": "[encoded data removed]"
          },
          "metadata": {
            "needs_background": "light"
          }
        },
        {
          "output_type": "stream",
          "name": "stdout",
          "text": [
            "targets_location is  [[4.83972751]\n",
            " [5.82554686]]\n",
            "Start evaluating\n",
            "best cat is in 5.125451935440935 5.468847946811829\n",
            "2.0887256190850465 is min_value\n",
            "stable_num 0\n",
            "iteration 30\n",
            "fitness is\n",
            "2.0887256190850465\n"
          ]
        },
        {
          "output_type": "stream",
          "name": "stderr",
          "text": [
            "/usr/local/lib/python3.7/dist-packages/ipykernel_launcher.py:61: MatplotlibDeprecationWarning: Adding an axes using the same arguments as a previous axes currently reuses the earlier instance.  In a future version, a new instance will always be created and returned.  Meanwhile, this warning can be suppressed, and the future behavior ensured, by passing a unique label to each axes instance.\n",
            "/usr/local/lib/python3.7/dist-packages/ipykernel_launcher.py:83: MatplotlibDeprecationWarning: Adding an axes using the same arguments as a previous axes currently reuses the earlier instance.  In a future version, a new instance will always be created and returned.  Meanwhile, this warning can be suppressed, and the future behavior ensured, by passing a unique label to each axes instance.\n"
          ]
        },
        {
          "output_type": "display_data",
          "data": {
            "text/plain": [
              "<Figure size 432x288 with 1 Axes>"
            ],
            "image/png": "[encoded data removed]"
          },
          "metadata": {
            "needs_background": "light"
          }
        },
        {
          "output_type": "stream",
          "name": "stdout",
          "text": [
            "targets_location is  [[4.83972751]\n",
            " [5.82554686]]\n",
            "Start evaluating\n",
            "best cat is in 4.479984603895857 5.7303438992744\n",
            "1.3847856111214638 is min_value\n",
            "stable_num 0\n",
            "iteration 31\n",
            "fitness is\n",
            "1.3847856111214638\n"
          ]
        },
        {
          "output_type": "stream",
          "name": "stderr",
          "text": [
            "/usr/local/lib/python3.7/dist-packages/ipykernel_launcher.py:61: MatplotlibDeprecationWarning: Adding an axes using the same arguments as a previous axes currently reuses the earlier instance.  In a future version, a new instance will always be created and returned.  Meanwhile, this warning can be suppressed, and the future behavior ensured, by passing a unique label to each axes instance.\n",
            "/usr/local/lib/python3.7/dist-packages/ipykernel_launcher.py:83: MatplotlibDeprecationWarning: Adding an axes using the same arguments as a previous axes currently reuses the earlier instance.  In a future version, a new instance will always be created and returned.  Meanwhile, this warning can be suppressed, and the future behavior ensured, by passing a unique label to each axes instance.\n"
          ]
        },
        {
          "output_type": "display_data",
          "data": {
            "text/plain": [
              "<Figure size 432x288 with 1 Axes>"
            ],
            "image/png": "[encoded data removed]"
          },
          "metadata": {
            "needs_background": "light"
          }
        },
        {
          "output_type": "stream",
          "name": "stdout",
          "text": [
            "targets_location is  [[4.83972751]\n",
            " [5.82554686]]\n",
            "Start evaluating\n",
            "best cat is in 3.5547046579868606 4.668053243509759\n",
            "29.910751966711043 is min_value\n",
            "stable_num 0\n",
            "iteration 32\n",
            "fitness is\n",
            "29.910751966711043\n"
          ]
        },
        {
          "output_type": "stream",
          "name": "stderr",
          "text": [
            "/usr/local/lib/python3.7/dist-packages/ipykernel_launcher.py:61: MatplotlibDeprecationWarning: Adding an axes using the same arguments as a previous axes currently reuses the earlier instance.  In a future version, a new instance will always be created and returned.  Meanwhile, this warning can be suppressed, and the future behavior ensured, by passing a unique label to each axes instance.\n",
            "/usr/local/lib/python3.7/dist-packages/ipykernel_launcher.py:83: MatplotlibDeprecationWarning: Adding an axes using the same arguments as a previous axes currently reuses the earlier instance.  In a future version, a new instance will always be created and returned.  Meanwhile, this warning can be suppressed, and the future behavior ensured, by passing a unique label to each axes instance.\n"
          ]
        },
        {
          "output_type": "display_data",
          "data": {
            "text/plain": [
              "<Figure size 432x288 with 1 Axes>"
            ],
            "image/png": "[encoded data removed]"
          },
          "metadata": {
            "needs_background": "light"
          }
        },
        {
          "output_type": "stream",
          "name": "stdout",
          "text": [
            "targets_location is  [[4.83972751]\n",
            " [5.82554686]]\n",
            "Start evaluating\n",
            "best cat is in 7.546505493999936 8.304154082210689\n",
            "134.7014082884133 is min_value\n",
            "stable_num 0\n",
            "iteration 33\n",
            "fitness is\n",
            "134.7014082884133\n"
          ]
        },
        {
          "output_type": "stream",
          "name": "stderr",
          "text": [
            "/usr/local/lib/python3.7/dist-packages/ipykernel_launcher.py:61: MatplotlibDeprecationWarning: Adding an axes using the same arguments as a previous axes currently reuses the earlier instance.  In a future version, a new instance will always be created and returned.  Meanwhile, this warning can be suppressed, and the future behavior ensured, by passing a unique label to each axes instance.\n",
            "/usr/local/lib/python3.7/dist-packages/ipykernel_launcher.py:83: MatplotlibDeprecationWarning: Adding an axes using the same arguments as a previous axes currently reuses the earlier instance.  In a future version, a new instance will always be created and returned.  Meanwhile, this warning can be suppressed, and the future behavior ensured, by passing a unique label to each axes instance.\n"
          ]
        },
        {
          "output_type": "display_data",
          "data": {
            "text/plain": [
              "<Figure size 432x288 with 1 Axes>"
            ],
            "image/png": "[encoded data removed]"
          },
          "metadata": {
            "needs_background": "light"
          }
        },
        {
          "output_type": "stream",
          "name": "stdout",
          "text": [
            "targets_location is  [[4.83972751]\n",
            " [5.82554686]]\n",
            "Start evaluating\n",
            "best cat is in 5.2459945196170965 7.16509905431422\n",
            "19.594529683205863 is min_value\n",
            "stable_num 0\n",
            "iteration 34\n",
            "fitness is\n",
            "19.594529683205863\n"
          ]
        },
        {
          "output_type": "stream",
          "name": "stderr",
          "text": [
            "/usr/local/lib/python3.7/dist-packages/ipykernel_launcher.py:61: MatplotlibDeprecationWarning: Adding an axes using the same arguments as a previous axes currently reuses the earlier instance.  In a future version, a new instance will always be created and returned.  Meanwhile, this warning can be suppressed, and the future behavior ensured, by passing a unique label to each axes instance.\n",
            "/usr/local/lib/python3.7/dist-packages/ipykernel_launcher.py:83: MatplotlibDeprecationWarning: Adding an axes using the same arguments as a previous axes currently reuses the earlier instance.  In a future version, a new instance will always be created and returned.  Meanwhile, this warning can be suppressed, and the future behavior ensured, by passing a unique label to each axes instance.\n"
          ]
        },
        {
          "output_type": "display_data",
          "data": {
            "text/plain": [
              "<Figure size 432x288 with 1 Axes>"
            ],
            "image/png": "[encoded data removed]"
          },
          "metadata": {
            "needs_background": "light"
          }
        },
        {
          "output_type": "stream",
          "name": "stdout",
          "text": [
            "targets_location is  [[4.83972751]\n",
            " [5.82554686]]\n",
            "Start evaluating\n",
            "best cat is in 4.867175483748849 5.523064421442014\n",
            "0.9224901631225477 is min_value\n",
            "stable_num 0\n",
            "iteration 35\n",
            "fitness is\n",
            "0.9224901631225477\n"
          ]
        },
        {
          "output_type": "stream",
          "name": "stderr",
          "text": [
            "/usr/local/lib/python3.7/dist-packages/ipykernel_launcher.py:61: MatplotlibDeprecationWarning: Adding an axes using the same arguments as a previous axes currently reuses the earlier instance.  In a future version, a new instance will always be created and returned.  Meanwhile, this warning can be suppressed, and the future behavior ensured, by passing a unique label to each axes instance.\n",
            "/usr/local/lib/python3.7/dist-packages/ipykernel_launcher.py:83: MatplotlibDeprecationWarning: Adding an axes using the same arguments as a previous axes currently reuses the earlier instance.  In a future version, a new instance will always be created and returned.  Meanwhile, this warning can be suppressed, and the future behavior ensured, by passing a unique label to each axes instance.\n"
          ]
        },
        {
          "output_type": "display_data",
          "data": {
            "text/plain": [
              "<Figure size 432x288 with 1 Axes>"
            ],
            "image/png": "[encoded data removed]"
          },
          "metadata": {
            "needs_background": "light"
          }
        },
        {
          "output_type": "stream",
          "name": "stdout",
          "text": [
            "targets_location is  [[4.83972751]\n",
            " [5.82554686]]\n",
            "Start evaluating\n",
            "best cat is in 6.89947299549244 9.063584277392415\n",
            "147.27437793638467 is min_value\n",
            "stable_num 0\n",
            "iteration 36\n",
            "fitness is\n",
            "147.27437793638467\n"
          ]
        },
        {
          "output_type": "stream",
          "name": "stderr",
          "text": [
            "/usr/local/lib/python3.7/dist-packages/ipykernel_launcher.py:61: MatplotlibDeprecationWarning: Adding an axes using the same arguments as a previous axes currently reuses the earlier instance.  In a future version, a new instance will always be created and returned.  Meanwhile, this warning can be suppressed, and the future behavior ensured, by passing a unique label to each axes instance.\n",
            "/usr/local/lib/python3.7/dist-packages/ipykernel_launcher.py:83: MatplotlibDeprecationWarning: Adding an axes using the same arguments as a previous axes currently reuses the earlier instance.  In a future version, a new instance will always be created and returned.  Meanwhile, this warning can be suppressed, and the future behavior ensured, by passing a unique label to each axes instance.\n"
          ]
        },
        {
          "output_type": "display_data",
          "data": {
            "text/plain": [
              "<Figure size 432x288 with 1 Axes>"
            ],
            "image/png": "[encoded data removed]"
          },
          "metadata": {
            "needs_background": "light"
          }
        },
        {
          "output_type": "stream",
          "name": "stdout",
          "text": [
            "targets_location is  [[4.83972751]\n",
            " [5.82554686]]\n",
            "Start evaluating\n",
            "best cat is in 5.21091817170602 6.8652526409950525\n",
            "12.18770621559443 is min_value\n",
            "stable_num 0\n",
            "iteration 37\n",
            "fitness is\n",
            "12.18770621559443\n"
          ]
        },
        {
          "output_type": "stream",
          "name": "stderr",
          "text": [
            "/usr/local/lib/python3.7/dist-packages/ipykernel_launcher.py:61: MatplotlibDeprecationWarning: Adding an axes using the same arguments as a previous axes currently reuses the earlier instance.  In a future version, a new instance will always be created and returned.  Meanwhile, this warning can be suppressed, and the future behavior ensured, by passing a unique label to each axes instance.\n",
            "/usr/local/lib/python3.7/dist-packages/ipykernel_launcher.py:83: MatplotlibDeprecationWarning: Adding an axes using the same arguments as a previous axes currently reuses the earlier instance.  In a future version, a new instance will always be created and returned.  Meanwhile, this warning can be suppressed, and the future behavior ensured, by passing a unique label to each axes instance.\n"
          ]
        },
        {
          "output_type": "display_data",
          "data": {
            "text/plain": [
              "<Figure size 432x288 with 1 Axes>"
            ],
            "image/png": "[encoded data removed]"
          },
          "metadata": {
            "needs_background": "light"
          }
        },
        {
          "output_type": "stream",
          "name": "stdout",
          "text": [
            "targets_location is  [[4.83972751]\n",
            " [5.82554686]]\n",
            "Start evaluating\n",
            "best cat is in 7.930351967036957 7.273234513368999\n",
            "116.4775908706223 is min_value\n",
            "stable_num 0\n",
            "iteration 38\n",
            "fitness is\n",
            "116.4775908706223\n"
          ]
        },
        {
          "output_type": "stream",
          "name": "stderr",
          "text": [
            "/usr/local/lib/python3.7/dist-packages/ipykernel_launcher.py:61: MatplotlibDeprecationWarning: Adding an axes using the same arguments as a previous axes currently reuses the earlier instance.  In a future version, a new instance will always be created and returned.  Meanwhile, this warning can be suppressed, and the future behavior ensured, by passing a unique label to each axes instance.\n",
            "/usr/local/lib/python3.7/dist-packages/ipykernel_launcher.py:83: MatplotlibDeprecationWarning: Adding an axes using the same arguments as a previous axes currently reuses the earlier instance.  In a future version, a new instance will always be created and returned.  Meanwhile, this warning can be suppressed, and the future behavior ensured, by passing a unique label to each axes instance.\n"
          ]
        },
        {
          "output_type": "display_data",
          "data": {
            "text/plain": [
              "<Figure size 432x288 with 1 Axes>"
            ],
            "image/png": "[encoded data removed]"
          },
          "metadata": {
            "needs_background": "light"
          }
        },
        {
          "output_type": "stream",
          "name": "stdout",
          "text": [
            "targets_location is  [[4.83972751]\n",
            " [5.82554686]]\n",
            "Start evaluating\n",
            "best cat is in 9.95624676394463 5.324208114800014\n",
            "264.3010982520484 is min_value\n",
            "stable_num 0\n",
            "iteration 39\n",
            "fitness is\n",
            "264.3010982520484\n"
          ]
        },
        {
          "output_type": "stream",
          "name": "stderr",
          "text": [
            "/usr/local/lib/python3.7/dist-packages/ipykernel_launcher.py:61: MatplotlibDeprecationWarning: Adding an axes using the same arguments as a previous axes currently reuses the earlier instance.  In a future version, a new instance will always be created and returned.  Meanwhile, this warning can be suppressed, and the future behavior ensured, by passing a unique label to each axes instance.\n",
            "/usr/local/lib/python3.7/dist-packages/ipykernel_launcher.py:83: MatplotlibDeprecationWarning: Adding an axes using the same arguments as a previous axes currently reuses the earlier instance.  In a future version, a new instance will always be created and returned.  Meanwhile, this warning can be suppressed, and the future behavior ensured, by passing a unique label to each axes instance.\n"
          ]
        },
        {
          "output_type": "display_data",
          "data": {
            "text/plain": [
              "<Figure size 432x288 with 1 Axes>"
            ],
            "image/png": "[encoded data removed]"
          },
          "metadata": {
            "needs_background": "light"
          }
        },
        {
          "output_type": "stream",
          "name": "stdout",
          "text": [
            "targets_location is  [[4.83972751]\n",
            " [5.82554686]]\n",
            "Start evaluating\n",
            "best cat is in 6.492096929591458 2.5813882808737505\n",
            "132.5488958244258 is min_value\n",
            "stable_num 0\n",
            "iteration 40\n",
            "fitness is\n",
            "132.5488958244258\n"
          ]
        },
        {
          "output_type": "stream",
          "name": "stderr",
          "text": [
            "/usr/local/lib/python3.7/dist-packages/ipykernel_launcher.py:61: MatplotlibDeprecationWarning: Adding an axes using the same arguments as a previous axes currently reuses the earlier instance.  In a future version, a new instance will always be created and returned.  Meanwhile, this warning can be suppressed, and the future behavior ensured, by passing a unique label to each axes instance.\n",
            "/usr/local/lib/python3.7/dist-packages/ipykernel_launcher.py:83: MatplotlibDeprecationWarning: Adding an axes using the same arguments as a previous axes currently reuses the earlier instance.  In a future version, a new instance will always be created and returned.  Meanwhile, this warning can be suppressed, and the future behavior ensured, by passing a unique label to each axes instance.\n"
          ]
        },
        {
          "output_type": "display_data",
          "data": {
            "text/plain": [
              "<Figure size 432x288 with 1 Axes>"
            ],
            "image/png": "[encoded data removed]"
          },
          "metadata": {
            "needs_background": "light"
          }
        },
        {
          "output_type": "stream",
          "name": "stdout",
          "text": [
            "targets_location is  [[4.83972751]\n",
            " [5.82554686]]\n",
            "Start evaluating\n",
            "best cat is in 5.201736491024019 6.52009053225013\n",
            "6.134414174206259 is min_value\n",
            "stable_num 0\n",
            "iteration 41\n",
            "fitness is\n",
            "6.134414174206259\n"
          ]
        },
        {
          "output_type": "stream",
          "name": "stderr",
          "text": [
            "/usr/local/lib/python3.7/dist-packages/ipykernel_launcher.py:61: MatplotlibDeprecationWarning: Adding an axes using the same arguments as a previous axes currently reuses the earlier instance.  In a future version, a new instance will always be created and returned.  Meanwhile, this warning can be suppressed, and the future behavior ensured, by passing a unique label to each axes instance.\n",
            "/usr/local/lib/python3.7/dist-packages/ipykernel_launcher.py:83: MatplotlibDeprecationWarning: Adding an axes using the same arguments as a previous axes currently reuses the earlier instance.  In a future version, a new instance will always be created and returned.  Meanwhile, this warning can be suppressed, and the future behavior ensured, by passing a unique label to each axes instance.\n"
          ]
        },
        {
          "output_type": "display_data",
          "data": {
            "text/plain": [
              "<Figure size 432x288 with 1 Axes>"
            ],
            "image/png": "[encoded data removed]"
          },
          "metadata": {
            "needs_background": "light"
          }
        },
        {
          "output_type": "stream",
          "name": "stdout",
          "text": [
            "targets_location is  [[4.83972751]\n",
            " [5.82554686]]\n",
            "Start evaluating\n",
            "best cat is in 4.355485982936308 6.796210647370618\n",
            "11.76678045531953 is min_value\n",
            "stable_num 0\n",
            "iteration 42\n",
            "fitness is\n",
            "11.76678045531953\n"
          ]
        },
        {
          "output_type": "stream",
          "name": "stderr",
          "text": [
            "/usr/local/lib/python3.7/dist-packages/ipykernel_launcher.py:61: MatplotlibDeprecationWarning: Adding an axes using the same arguments as a previous axes currently reuses the earlier instance.  In a future version, a new instance will always be created and returned.  Meanwhile, this warning can be suppressed, and the future behavior ensured, by passing a unique label to each axes instance.\n",
            "/usr/local/lib/python3.7/dist-packages/ipykernel_launcher.py:83: MatplotlibDeprecationWarning: Adding an axes using the same arguments as a previous axes currently reuses the earlier instance.  In a future version, a new instance will always be created and returned.  Meanwhile, this warning can be suppressed, and the future behavior ensured, by passing a unique label to each axes instance.\n"
          ]
        },
        {
          "output_type": "display_data",
          "data": {
            "text/plain": [
              "<Figure size 432x288 with 1 Axes>"
            ],
            "image/png": "[encoded data removed]"
          },
          "metadata": {
            "needs_background": "light"
          }
        },
        {
          "output_type": "stream",
          "name": "stdout",
          "text": [
            "targets_location is  [[4.83972751]\n",
            " [5.82554686]]\n",
            "Start evaluating\n",
            "best cat is in 7.144019033996852 7.1880570035275175\n",
            "71.66193327527252 is min_value\n",
            "stable_num 0\n",
            "iteration 43\n",
            "fitness is\n",
            "71.66193327527252\n"
          ]
        },
        {
          "output_type": "stream",
          "name": "stderr",
          "text": [
            "/usr/local/lib/python3.7/dist-packages/ipykernel_launcher.py:61: MatplotlibDeprecationWarning: Adding an axes using the same arguments as a previous axes currently reuses the earlier instance.  In a future version, a new instance will always be created and returned.  Meanwhile, this warning can be suppressed, and the future behavior ensured, by passing a unique label to each axes instance.\n",
            "/usr/local/lib/python3.7/dist-packages/ipykernel_launcher.py:83: MatplotlibDeprecationWarning: Adding an axes using the same arguments as a previous axes currently reuses the earlier instance.  In a future version, a new instance will always be created and returned.  Meanwhile, this warning can be suppressed, and the future behavior ensured, by passing a unique label to each axes instance.\n"
          ]
        },
        {
          "output_type": "display_data",
          "data": {
            "text/plain": [
              "<Figure size 432x288 with 1 Axes>"
            ],
            "image/png": "[encoded data removed]"
          },
          "metadata": {
            "needs_background": "light"
          }
        },
        {
          "output_type": "stream",
          "name": "stdout",
          "text": [
            "targets_location is  [[4.83972751]\n",
            " [5.82554686]]\n"
          ]
        },
        {
          "output_type": "stream",
          "name": "stderr",
          "text": [
            "/usr/local/lib/python3.7/dist-packages/ipykernel_launcher.py:61: MatplotlibDeprecationWarning: Adding an axes using the same arguments as a previous axes currently reuses the earlier instance.  In a future version, a new instance will always be created and returned.  Meanwhile, this warning can be suppressed, and the future behavior ensured, by passing a unique label to each axes instance.\n"
          ]
        },
        {
          "output_type": "stream",
          "name": "stdout",
          "text": [
            "Start evaluating\n",
            "best cat is in 4.999167552884567 6.808038903625912\n",
            "9.907117455938932 is min_value\n",
            "stable_num 0\n",
            "iteration 44\n",
            "fitness is\n",
            "9.907117455938932\n"
          ]
        },
        {
          "output_type": "stream",
          "name": "stderr",
          "text": [
            "/usr/local/lib/python3.7/dist-packages/ipykernel_launcher.py:83: MatplotlibDeprecationWarning: Adding an axes using the same arguments as a previous axes currently reuses the earlier instance.  In a future version, a new instance will always be created and returned.  Meanwhile, this warning can be suppressed, and the future behavior ensured, by passing a unique label to each axes instance.\n"
          ]
        },
        {
          "output_type": "display_data",
          "data": {
            "text/plain": [
              "<Figure size 432x288 with 1 Axes>"
            ],
            "image/png": "[encoded data removed]"
          },
          "metadata": {
            "needs_background": "light"
          }
        },
        {
          "output_type": "stream",
          "name": "stdout",
          "text": [
            "targets_location is  [[4.83972751]\n",
            " [5.82554686]]\n",
            "Start evaluating\n",
            "best cat is in 5.8830230834875845 5.935820687430434\n",
            "11.006259735376036 is min_value\n",
            "stable_num 0\n",
            "iteration 45\n",
            "fitness is\n",
            "11.006259735376036\n"
          ]
        },
        {
          "output_type": "stream",
          "name": "stderr",
          "text": [
            "/usr/local/lib/python3.7/dist-packages/ipykernel_launcher.py:61: MatplotlibDeprecationWarning: Adding an axes using the same arguments as a previous axes currently reuses the earlier instance.  In a future version, a new instance will always be created and returned.  Meanwhile, this warning can be suppressed, and the future behavior ensured, by passing a unique label to each axes instance.\n",
            "/usr/local/lib/python3.7/dist-packages/ipykernel_launcher.py:83: MatplotlibDeprecationWarning: Adding an axes using the same arguments as a previous axes currently reuses the earlier instance.  In a future version, a new instance will always be created and returned.  Meanwhile, this warning can be suppressed, and the future behavior ensured, by passing a unique label to each axes instance.\n"
          ]
        },
        {
          "output_type": "display_data",
          "data": {
            "text/plain": [
              "<Figure size 432x288 with 1 Axes>"
            ],
            "image/png": "[encoded data removed]"
          },
          "metadata": {
            "needs_background": "light"
          }
        },
        {
          "output_type": "stream",
          "name": "stdout",
          "text": [
            "targets_location is  [[4.83972751]\n",
            " [5.82554686]]\n",
            "Start evaluating\n",
            "best cat is in 4.747077760413835 4.207618831089318\n",
            "26.262750790931065 is min_value\n",
            "stable_num 0\n",
            "iteration 46\n",
            "fitness is\n",
            "26.262750790931065\n"
          ]
        },
        {
          "output_type": "stream",
          "name": "stderr",
          "text": [
            "/usr/local/lib/python3.7/dist-packages/ipykernel_launcher.py:61: MatplotlibDeprecationWarning: Adding an axes using the same arguments as a previous axes currently reuses the earlier instance.  In a future version, a new instance will always be created and returned.  Meanwhile, this warning can be suppressed, and the future behavior ensured, by passing a unique label to each axes instance.\n",
            "/usr/local/lib/python3.7/dist-packages/ipykernel_launcher.py:83: MatplotlibDeprecationWarning: Adding an axes using the same arguments as a previous axes currently reuses the earlier instance.  In a future version, a new instance will always be created and returned.  Meanwhile, this warning can be suppressed, and the future behavior ensured, by passing a unique label to each axes instance.\n"
          ]
        },
        {
          "output_type": "display_data",
          "data": {
            "text/plain": [
              "<Figure size 432x288 with 1 Axes>"
            ],
            "image/png": "[encoded data removed]"
          },
          "metadata": {
            "needs_background": "light"
          }
        },
        {
          "output_type": "stream",
          "name": "stdout",
          "text": [
            "targets_location is  [[4.83972751]\n",
            " [5.82554686]]\n",
            "Start evaluating\n",
            "best cat is in 5.000590719159236 5.776153401582475\n",
            "0.28316686092914944 is min_value\n",
            "stable_num 0\n",
            "iteration 47\n",
            "fitness is\n",
            "0.28316686092914944\n"
          ]
        },
        {
          "output_type": "stream",
          "name": "stderr",
          "text": [
            "/usr/local/lib/python3.7/dist-packages/ipykernel_launcher.py:61: MatplotlibDeprecationWarning: Adding an axes using the same arguments as a previous axes currently reuses the earlier instance.  In a future version, a new instance will always be created and returned.  Meanwhile, this warning can be suppressed, and the future behavior ensured, by passing a unique label to each axes instance.\n",
            "/usr/local/lib/python3.7/dist-packages/ipykernel_launcher.py:83: MatplotlibDeprecationWarning: Adding an axes using the same arguments as a previous axes currently reuses the earlier instance.  In a future version, a new instance will always be created and returned.  Meanwhile, this warning can be suppressed, and the future behavior ensured, by passing a unique label to each axes instance.\n"
          ]
        },
        {
          "output_type": "display_data",
          "data": {
            "text/plain": [
              "<Figure size 432x288 with 1 Axes>"
            ],
            "image/png": "[encoded data removed]"
          },
          "metadata": {
            "needs_background": "light"
          }
        },
        {
          "output_type": "stream",
          "name": "stdout",
          "text": [
            "targets_location is  [[4.83972751]\n",
            " [5.82554686]]\n",
            "Start evaluating\n",
            "best cat is in 5.2714883763869445 6.062451668602802\n",
            "2.4254133568162866 is min_value\n",
            "stable_num 0\n",
            "iteration 48\n",
            "fitness is\n",
            "2.4254133568162866\n"
          ]
        },
        {
          "output_type": "stream",
          "name": "stderr",
          "text": [
            "/usr/local/lib/python3.7/dist-packages/ipykernel_launcher.py:61: MatplotlibDeprecationWarning: Adding an axes using the same arguments as a previous axes currently reuses the earlier instance.  In a future version, a new instance will always be created and returned.  Meanwhile, this warning can be suppressed, and the future behavior ensured, by passing a unique label to each axes instance.\n",
            "/usr/local/lib/python3.7/dist-packages/ipykernel_launcher.py:83: MatplotlibDeprecationWarning: Adding an axes using the same arguments as a previous axes currently reuses the earlier instance.  In a future version, a new instance will always be created and returned.  Meanwhile, this warning can be suppressed, and the future behavior ensured, by passing a unique label to each axes instance.\n"
          ]
        },
        {
          "output_type": "display_data",
          "data": {
            "text/plain": [
              "<Figure size 432x288 with 1 Axes>"
            ],
            "image/png": "[encoded data removed]"
          },
          "metadata": {
            "needs_background": "light"
          }
        },
        {
          "output_type": "stream",
          "name": "stdout",
          "text": [
            "targets_location is  [[4.83972751]\n",
            " [5.82554686]]\n",
            "Start evaluating\n",
            "best cat is in 2.599568240063576 5.519314003614636\n",
            "51.120921107147964 is min_value\n",
            "stable_num 0\n",
            "iteration 49\n",
            "fitness is\n",
            "51.120921107147964\n"
          ]
        },
        {
          "output_type": "stream",
          "name": "stderr",
          "text": [
            "/usr/local/lib/python3.7/dist-packages/ipykernel_launcher.py:61: MatplotlibDeprecationWarning: Adding an axes using the same arguments as a previous axes currently reuses the earlier instance.  In a future version, a new instance will always be created and returned.  Meanwhile, this warning can be suppressed, and the future behavior ensured, by passing a unique label to each axes instance.\n",
            "/usr/local/lib/python3.7/dist-packages/ipykernel_launcher.py:83: MatplotlibDeprecationWarning: Adding an axes using the same arguments as a previous axes currently reuses the earlier instance.  In a future version, a new instance will always be created and returned.  Meanwhile, this warning can be suppressed, and the future behavior ensured, by passing a unique label to each axes instance.\n"
          ]
        },
        {
          "output_type": "display_data",
          "data": {
            "text/plain": [
              "<Figure size 432x288 with 1 Axes>"
            ],
            "image/png": "[encoded data removed]"
          },
          "metadata": {
            "needs_background": "light"
          }
        },
        {
          "output_type": "stream",
          "name": "stdout",
          "text": [
            "targets_location is  [[4.83972751]\n",
            " [5.82554686]]\n",
            "Start evaluating\n",
            "best cat is in 4.618213723550061 6.184002050655771\n",
            "1.775584815154049 is min_value\n",
            "stable_num 0\n",
            "iteration 50\n",
            "fitness is\n",
            "1.775584815154049\n"
          ]
        },
        {
          "output_type": "stream",
          "name": "stderr",
          "text": [
            "/usr/local/lib/python3.7/dist-packages/ipykernel_launcher.py:61: MatplotlibDeprecationWarning: Adding an axes using the same arguments as a previous axes currently reuses the earlier instance.  In a future version, a new instance will always be created and returned.  Meanwhile, this warning can be suppressed, and the future behavior ensured, by passing a unique label to each axes instance.\n",
            "/usr/local/lib/python3.7/dist-packages/ipykernel_launcher.py:83: MatplotlibDeprecationWarning: Adding an axes using the same arguments as a previous axes currently reuses the earlier instance.  In a future version, a new instance will always be created and returned.  Meanwhile, this warning can be suppressed, and the future behavior ensured, by passing a unique label to each axes instance.\n"
          ]
        },
        {
          "output_type": "display_data",
          "data": {
            "text/plain": [
              "<Figure size 432x288 with 1 Axes>"
            ],
            "image/png": "[encoded data removed]"
          },
          "metadata": {
            "needs_background": "light"
          }
        },
        {
          "output_type": "stream",
          "name": "stdout",
          "text": [
            "targets_location is  [[4.83972751]\n",
            " [5.82554686]]\n",
            "Start evaluating\n",
            "best cat is in 4.896648587985767 5.784884416972092\n",
            "0.048934434470601355 is min_value\n",
            "stable_num 0\n",
            "iteration 51\n",
            "fitness is\n",
            "0.048934434470601355\n"
          ]
        },
        {
          "output_type": "stream",
          "name": "stderr",
          "text": [
            "/usr/local/lib/python3.7/dist-packages/ipykernel_launcher.py:61: MatplotlibDeprecationWarning: Adding an axes using the same arguments as a previous axes currently reuses the earlier instance.  In a future version, a new instance will always be created and returned.  Meanwhile, this warning can be suppressed, and the future behavior ensured, by passing a unique label to each axes instance.\n",
            "/usr/local/lib/python3.7/dist-packages/ipykernel_launcher.py:83: MatplotlibDeprecationWarning: Adding an axes using the same arguments as a previous axes currently reuses the earlier instance.  In a future version, a new instance will always be created and returned.  Meanwhile, this warning can be suppressed, and the future behavior ensured, by passing a unique label to each axes instance.\n"
          ]
        },
        {
          "output_type": "display_data",
          "data": {
            "text/plain": [
              "<Figure size 432x288 with 1 Axes>"
            ],
            "image/png": "[encoded data removed]"
          },
          "metadata": {
            "needs_background": "light"
          }
        },
        {
          "output_type": "stream",
          "name": "stdout",
          "text": [
            "targets_location is  [[4.83972751]\n",
            " [5.82554686]]\n",
            "Start evaluating\n",
            "best cat is in 10.10881669925624 6.953045950835272\n",
            "290.3455509986578 is min_value\n",
            "stable_num 0\n",
            "iteration 52\n",
            "fitness is\n",
            "290.3455509986578\n"
          ]
        },
        {
          "output_type": "stream",
          "name": "stderr",
          "text": [
            "/usr/local/lib/python3.7/dist-packages/ipykernel_launcher.py:61: MatplotlibDeprecationWarning: Adding an axes using the same arguments as a previous axes currently reuses the earlier instance.  In a future version, a new instance will always be created and returned.  Meanwhile, this warning can be suppressed, and the future behavior ensured, by passing a unique label to each axes instance.\n",
            "/usr/local/lib/python3.7/dist-packages/ipykernel_launcher.py:83: MatplotlibDeprecationWarning: Adding an axes using the same arguments as a previous axes currently reuses the earlier instance.  In a future version, a new instance will always be created and returned.  Meanwhile, this warning can be suppressed, and the future behavior ensured, by passing a unique label to each axes instance.\n"
          ]
        },
        {
          "output_type": "display_data",
          "data": {
            "text/plain": [
              "<Figure size 432x288 with 1 Axes>"
            ],
            "image/png": "[encoded data removed]"
          },
          "metadata": {
            "needs_background": "light"
          }
        },
        {
          "output_type": "stream",
          "name": "stdout",
          "text": [
            "targets_location is  [[4.83972751]\n",
            " [5.82554686]]\n",
            "Start evaluating\n",
            "best cat is in 4.248174118933357 4.935780306197087\n",
            "11.416199313324567 is min_value\n",
            "stable_num 0\n",
            "iteration 53\n",
            "fitness is\n",
            "11.416199313324567\n"
          ]
        },
        {
          "output_type": "stream",
          "name": "stderr",
          "text": [
            "/usr/local/lib/python3.7/dist-packages/ipykernel_launcher.py:61: MatplotlibDeprecationWarning: Adding an axes using the same arguments as a previous axes currently reuses the earlier instance.  In a future version, a new instance will always be created and returned.  Meanwhile, this warning can be suppressed, and the future behavior ensured, by passing a unique label to each axes instance.\n",
            "/usr/local/lib/python3.7/dist-packages/ipykernel_launcher.py:83: MatplotlibDeprecationWarning: Adding an axes using the same arguments as a previous axes currently reuses the earlier instance.  In a future version, a new instance will always be created and returned.  Meanwhile, this warning can be suppressed, and the future behavior ensured, by passing a unique label to each axes instance.\n"
          ]
        },
        {
          "output_type": "display_data",
          "data": {
            "text/plain": [
              "<Figure size 432x288 with 1 Axes>"
            ],
            "image/png": "[encoded data removed]"
          },
          "metadata": {
            "needs_background": "light"
          }
        },
        {
          "output_type": "stream",
          "name": "stdout",
          "text": [
            "targets_location is  [[4.83972751]\n",
            " [5.82554686]]\n",
            "Start evaluating\n",
            "best cat is in 4.370402051414677 6.071777349891127\n",
            "2.8089583958185207 is min_value\n",
            "stable_num 0\n",
            "iteration 54\n",
            "fitness is\n",
            "2.8089583958185207\n"
          ]
        },
        {
          "output_type": "stream",
          "name": "stderr",
          "text": [
            "/usr/local/lib/python3.7/dist-packages/ipykernel_launcher.py:61: MatplotlibDeprecationWarning: Adding an axes using the same arguments as a previous axes currently reuses the earlier instance.  In a future version, a new instance will always be created and returned.  Meanwhile, this warning can be suppressed, and the future behavior ensured, by passing a unique label to each axes instance.\n",
            "/usr/local/lib/python3.7/dist-packages/ipykernel_launcher.py:83: MatplotlibDeprecationWarning: Adding an axes using the same arguments as a previous axes currently reuses the earlier instance.  In a future version, a new instance will always be created and returned.  Meanwhile, this warning can be suppressed, and the future behavior ensured, by passing a unique label to each axes instance.\n"
          ]
        },
        {
          "output_type": "display_data",
          "data": {
            "text/plain": [
              "<Figure size 432x288 with 1 Axes>"
            ],
            "image/png": "[encoded data removed]"
          },
          "metadata": {
            "needs_background": "light"
          }
        },
        {
          "output_type": "stream",
          "name": "stdout",
          "text": [
            "targets_location is  [[4.83972751]\n",
            " [5.82554686]]\n",
            "Start evaluating\n",
            "best cat is in 4.667830947165271 5.951676541975807\n",
            "0.454571248308396 is min_value\n",
            "stable_num 0\n",
            "iteration 55\n",
            "fitness is\n",
            "0.454571248308396\n"
          ]
        },
        {
          "output_type": "stream",
          "name": "stderr",
          "text": [
            "/usr/local/lib/python3.7/dist-packages/ipykernel_launcher.py:61: MatplotlibDeprecationWarning: Adding an axes using the same arguments as a previous axes currently reuses the earlier instance.  In a future version, a new instance will always be created and returned.  Meanwhile, this warning can be suppressed, and the future behavior ensured, by passing a unique label to each axes instance.\n",
            "/usr/local/lib/python3.7/dist-packages/ipykernel_launcher.py:83: MatplotlibDeprecationWarning: Adding an axes using the same arguments as a previous axes currently reuses the earlier instance.  In a future version, a new instance will always be created and returned.  Meanwhile, this warning can be suppressed, and the future behavior ensured, by passing a unique label to each axes instance.\n"
          ]
        },
        {
          "output_type": "display_data",
          "data": {
            "text/plain": [
              "<Figure size 432x288 with 1 Axes>"
            ],
            "image/png": "[encoded data removed]"
          },
          "metadata": {
            "needs_background": "light"
          }
        },
        {
          "output_type": "stream",
          "name": "stdout",
          "text": [
            "targets_location is  [[4.83972751]\n",
            " [5.82554686]]\n",
            "Start evaluating\n",
            "best cat is in 4.9807806704802555 5.962647215456977\n",
            "0.3869250219979539 is min_value\n",
            "stable_num 0\n",
            "iteration 56\n",
            "fitness is\n",
            "0.3869250219979539\n"
          ]
        },
        {
          "output_type": "stream",
          "name": "stderr",
          "text": [
            "/usr/local/lib/python3.7/dist-packages/ipykernel_launcher.py:61: MatplotlibDeprecationWarning: Adding an axes using the same arguments as a previous axes currently reuses the earlier instance.  In a future version, a new instance will always be created and returned.  Meanwhile, this warning can be suppressed, and the future behavior ensured, by passing a unique label to each axes instance.\n",
            "/usr/local/lib/python3.7/dist-packages/ipykernel_launcher.py:83: MatplotlibDeprecationWarning: Adding an axes using the same arguments as a previous axes currently reuses the earlier instance.  In a future version, a new instance will always be created and returned.  Meanwhile, this warning can be suppressed, and the future behavior ensured, by passing a unique label to each axes instance.\n"
          ]
        },
        {
          "output_type": "display_data",
          "data": {
            "text/plain": [
              "<Figure size 432x288 with 1 Axes>"
            ],
            "image/png": "[encoded data removed]"
          },
          "metadata": {
            "needs_background": "light"
          }
        },
        {
          "output_type": "stream",
          "name": "stdout",
          "text": [
            "targets_location is  [[4.83972751]\n",
            " [5.82554686]]\n",
            "Start evaluating\n",
            "best cat is in 4.095840037951827 5.057125535479348\n",
            "11.438398995119446 is min_value\n",
            "stable_num 0\n",
            "iteration 57\n",
            "fitness is\n",
            "11.438398995119446\n"
          ]
        },
        {
          "output_type": "stream",
          "name": "stderr",
          "text": [
            "/usr/local/lib/python3.7/dist-packages/ipykernel_launcher.py:61: MatplotlibDeprecationWarning: Adding an axes using the same arguments as a previous axes currently reuses the earlier instance.  In a future version, a new instance will always be created and returned.  Meanwhile, this warning can be suppressed, and the future behavior ensured, by passing a unique label to each axes instance.\n",
            "/usr/local/lib/python3.7/dist-packages/ipykernel_launcher.py:83: MatplotlibDeprecationWarning: Adding an axes using the same arguments as a previous axes currently reuses the earlier instance.  In a future version, a new instance will always be created and returned.  Meanwhile, this warning can be suppressed, and the future behavior ensured, by passing a unique label to each axes instance.\n"
          ]
        },
        {
          "output_type": "display_data",
          "data": {
            "text/plain": [
              "<Figure size 432x288 with 1 Axes>"
            ],
            "image/png": "[encoded data removed]"
          },
          "metadata": {
            "needs_background": "light"
          }
        },
        {
          "output_type": "stream",
          "name": "stdout",
          "text": [
            "targets_location is  [[4.83972751]\n",
            " [5.82554686]]\n",
            "Start evaluating\n",
            "best cat is in 4.7646619079036325 5.842956275974807\n",
            "0.059379322316403804 is min_value\n",
            "stable_num 0\n",
            "iteration 58\n",
            "fitness is\n",
            "0.059379322316403804\n"
          ]
        },
        {
          "output_type": "stream",
          "name": "stderr",
          "text": [
            "/usr/local/lib/python3.7/dist-packages/ipykernel_launcher.py:61: MatplotlibDeprecationWarning: Adding an axes using the same arguments as a previous axes currently reuses the earlier instance.  In a future version, a new instance will always be created and returned.  Meanwhile, this warning can be suppressed, and the future behavior ensured, by passing a unique label to each axes instance.\n",
            "/usr/local/lib/python3.7/dist-packages/ipykernel_launcher.py:83: MatplotlibDeprecationWarning: Adding an axes using the same arguments as a previous axes currently reuses the earlier instance.  In a future version, a new instance will always be created and returned.  Meanwhile, this warning can be suppressed, and the future behavior ensured, by passing a unique label to each axes instance.\n"
          ]
        },
        {
          "output_type": "display_data",
          "data": {
            "text/plain": [
              "<Figure size 432x288 with 1 Axes>"
            ],
            "image/png": "[encoded data removed]"
          },
          "metadata": {
            "needs_background": "light"
          }
        },
        {
          "output_type": "stream",
          "name": "stderr",
          "text": [
            "/usr/local/lib/python3.7/dist-packages/ipykernel_launcher.py:61: MatplotlibDeprecationWarning: Adding an axes using the same arguments as a previous axes currently reuses the earlier instance.  In a future version, a new instance will always be created and returned.  Meanwhile, this warning can be suppressed, and the future behavior ensured, by passing a unique label to each axes instance.\n"
          ]
        },
        {
          "output_type": "stream",
          "name": "stdout",
          "text": [
            "targets_location is  [[4.83972751]\n",
            " [5.82554686]]\n",
            "Start evaluating\n",
            "best cat is in 3.7773523194869703 6.44383302949777\n",
            "15.109188314784387 is min_value\n",
            "stable_num 0\n",
            "iteration 59\n",
            "fitness is\n",
            "15.109188314784387\n"
          ]
        },
        {
          "output_type": "stream",
          "name": "stderr",
          "text": [
            "/usr/local/lib/python3.7/dist-packages/ipykernel_launcher.py:83: MatplotlibDeprecationWarning: Adding an axes using the same arguments as a previous axes currently reuses the earlier instance.  In a future version, a new instance will always be created and returned.  Meanwhile, this warning can be suppressed, and the future behavior ensured, by passing a unique label to each axes instance.\n"
          ]
        },
        {
          "output_type": "display_data",
          "data": {
            "text/plain": [
              "<Figure size 432x288 with 1 Axes>"
            ],
            "image/png": "[encoded data removed]"
          },
          "metadata": {
            "needs_background": "light"
          }
        },
        {
          "output_type": "stream",
          "name": "stdout",
          "text": [
            "targets_location is  [[4.83972751]\n",
            " [5.82554686]]\n",
            "Start evaluating\n",
            "best cat is in 5.399755849666138 6.067795162745644\n",
            "3.7231598334579323 is min_value\n",
            "stable_num 0\n",
            "iteration 60\n",
            "fitness is\n",
            "3.7231598334579323\n"
          ]
        },
        {
          "output_type": "stream",
          "name": "stderr",
          "text": [
            "/usr/local/lib/python3.7/dist-packages/ipykernel_launcher.py:61: MatplotlibDeprecationWarning: Adding an axes using the same arguments as a previous axes currently reuses the earlier instance.  In a future version, a new instance will always be created and returned.  Meanwhile, this warning can be suppressed, and the future behavior ensured, by passing a unique label to each axes instance.\n",
            "/usr/local/lib/python3.7/dist-packages/ipykernel_launcher.py:83: MatplotlibDeprecationWarning: Adding an axes using the same arguments as a previous axes currently reuses the earlier instance.  In a future version, a new instance will always be created and returned.  Meanwhile, this warning can be suppressed, and the future behavior ensured, by passing a unique label to each axes instance.\n"
          ]
        },
        {
          "output_type": "display_data",
          "data": {
            "text/plain": [
              "<Figure size 432x288 with 1 Axes>"
            ],
            "image/png": "[encoded data removed]"
          },
          "metadata": {
            "needs_background": "light"
          }
        },
        {
          "output_type": "stream",
          "name": "stdout",
          "text": [
            "targets_location is  [[4.83972751]\n",
            " [5.82554686]]\n",
            "Start evaluating\n",
            "best cat is in 5.345466686035734 6.750100314172215\n",
            "11.105712070749824 is min_value\n",
            "stable_num 0\n",
            "iteration 61\n",
            "fitness is\n",
            "11.105712070749824\n"
          ]
        },
        {
          "output_type": "stream",
          "name": "stderr",
          "text": [
            "/usr/local/lib/python3.7/dist-packages/ipykernel_launcher.py:61: MatplotlibDeprecationWarning: Adding an axes using the same arguments as a previous axes currently reuses the earlier instance.  In a future version, a new instance will always be created and returned.  Meanwhile, this warning can be suppressed, and the future behavior ensured, by passing a unique label to each axes instance.\n",
            "/usr/local/lib/python3.7/dist-packages/ipykernel_launcher.py:83: MatplotlibDeprecationWarning: Adding an axes using the same arguments as a previous axes currently reuses the earlier instance.  In a future version, a new instance will always be created and returned.  Meanwhile, this warning can be suppressed, and the future behavior ensured, by passing a unique label to each axes instance.\n"
          ]
        },
        {
          "output_type": "display_data",
          "data": {
            "text/plain": [
              "<Figure size 432x288 with 1 Axes>"
            ],
            "image/png": "[encoded data removed]"
          },
          "metadata": {
            "needs_background": "light"
          }
        },
        {
          "output_type": "stream",
          "name": "stdout",
          "text": [
            "targets_location is  [[4.83972751]\n",
            " [5.82554686]]\n",
            "Start evaluating\n",
            "best cat is in 5.022645808407773 5.682330791160963\n",
            "0.5396994641565542 is min_value\n",
            "stable_num 0\n",
            "iteration 62\n",
            "fitness is\n",
            "0.5396994641565542\n"
          ]
        },
        {
          "output_type": "stream",
          "name": "stderr",
          "text": [
            "/usr/local/lib/python3.7/dist-packages/ipykernel_launcher.py:61: MatplotlibDeprecationWarning: Adding an axes using the same arguments as a previous axes currently reuses the earlier instance.  In a future version, a new instance will always be created and returned.  Meanwhile, this warning can be suppressed, and the future behavior ensured, by passing a unique label to each axes instance.\n",
            "/usr/local/lib/python3.7/dist-packages/ipykernel_launcher.py:83: MatplotlibDeprecationWarning: Adding an axes using the same arguments as a previous axes currently reuses the earlier instance.  In a future version, a new instance will always be created and returned.  Meanwhile, this warning can be suppressed, and the future behavior ensured, by passing a unique label to each axes instance.\n"
          ]
        },
        {
          "output_type": "display_data",
          "data": {
            "text/plain": [
              "<Figure size 432x288 with 1 Axes>"
            ],
            "image/png": "[encoded data removed]"
          },
          "metadata": {
            "needs_background": "light"
          }
        },
        {
          "output_type": "stream",
          "name": "stdout",
          "text": [
            "targets_location is  [[4.83972751]\n",
            " [5.82554686]]\n",
            "Start evaluating\n",
            "best cat is in 4.767655188221542 6.022743602900839\n",
            "0.44080975223444985 is min_value\n",
            "stable_num 0\n",
            "iteration 63\n",
            "fitness is\n",
            "0.44080975223444985\n"
          ]
        },
        {
          "output_type": "stream",
          "name": "stderr",
          "text": [
            "/usr/local/lib/python3.7/dist-packages/ipykernel_launcher.py:61: MatplotlibDeprecationWarning: Adding an axes using the same arguments as a previous axes currently reuses the earlier instance.  In a future version, a new instance will always be created and returned.  Meanwhile, this warning can be suppressed, and the future behavior ensured, by passing a unique label to each axes instance.\n",
            "/usr/local/lib/python3.7/dist-packages/ipykernel_launcher.py:83: MatplotlibDeprecationWarning: Adding an axes using the same arguments as a previous axes currently reuses the earlier instance.  In a future version, a new instance will always be created and returned.  Meanwhile, this warning can be suppressed, and the future behavior ensured, by passing a unique label to each axes instance.\n"
          ]
        },
        {
          "output_type": "display_data",
          "data": {
            "text/plain": [
              "<Figure size 432x288 with 1 Axes>"
            ],
            "image/png": "[encoded data removed]"
          },
          "metadata": {
            "needs_background": "light"
          }
        },
        {
          "output_type": "stream",
          "name": "stdout",
          "text": [
            "targets_location is  [[4.83972751]\n",
            " [5.82554686]]\n",
            "Start evaluating\n",
            "best cat is in 3.341894912320816 4.545687274465637\n",
            "38.815430428136196 is min_value\n",
            "stable_num 0\n",
            "iteration 64\n",
            "fitness is\n",
            "38.815430428136196\n"
          ]
        },
        {
          "output_type": "stream",
          "name": "stderr",
          "text": [
            "/usr/local/lib/python3.7/dist-packages/ipykernel_launcher.py:61: MatplotlibDeprecationWarning: Adding an axes using the same arguments as a previous axes currently reuses the earlier instance.  In a future version, a new instance will always be created and returned.  Meanwhile, this warning can be suppressed, and the future behavior ensured, by passing a unique label to each axes instance.\n",
            "/usr/local/lib/python3.7/dist-packages/ipykernel_launcher.py:83: MatplotlibDeprecationWarning: Adding an axes using the same arguments as a previous axes currently reuses the earlier instance.  In a future version, a new instance will always be created and returned.  Meanwhile, this warning can be suppressed, and the future behavior ensured, by passing a unique label to each axes instance.\n"
          ]
        },
        {
          "output_type": "display_data",
          "data": {
            "text/plain": [
              "<Figure size 432x288 with 1 Axes>"
            ],
            "image/png": "[encoded data removed]"
          },
          "metadata": {
            "needs_background": "light"
          }
        },
        {
          "output_type": "stream",
          "name": "stdout",
          "text": [
            "targets_location is  [[4.83972751]\n",
            " [5.82554686]]\n",
            "Start evaluating\n",
            "best cat is in 4.542066376381608 5.190677847503865\n",
            "4.9166081137009385 is min_value\n",
            "stable_num 0\n",
            "iteration 65\n",
            "fitness is\n",
            "4.9166081137009385\n"
          ]
        },
        {
          "output_type": "stream",
          "name": "stderr",
          "text": [
            "/usr/local/lib/python3.7/dist-packages/ipykernel_launcher.py:61: MatplotlibDeprecationWarning: Adding an axes using the same arguments as a previous axes currently reuses the earlier instance.  In a future version, a new instance will always be created and returned.  Meanwhile, this warning can be suppressed, and the future behavior ensured, by passing a unique label to each axes instance.\n",
            "/usr/local/lib/python3.7/dist-packages/ipykernel_launcher.py:83: MatplotlibDeprecationWarning: Adding an axes using the same arguments as a previous axes currently reuses the earlier instance.  In a future version, a new instance will always be created and returned.  Meanwhile, this warning can be suppressed, and the future behavior ensured, by passing a unique label to each axes instance.\n"
          ]
        },
        {
          "output_type": "display_data",
          "data": {
            "text/plain": [
              "<Figure size 432x288 with 1 Axes>"
            ],
            "image/png": "[encoded data removed]"
          },
          "metadata": {
            "needs_background": "light"
          }
        },
        {
          "output_type": "stream",
          "name": "stdout",
          "text": [
            "targets_location is  [[4.83972751]\n",
            " [5.82554686]]\n",
            "Start evaluating\n",
            "best cat is in 4.6702767693044285 4.743473804334693\n",
            "11.995956485474624 is min_value\n",
            "stable_num 0\n",
            "iteration 66\n",
            "fitness is\n",
            "11.995956485474624\n"
          ]
        },
        {
          "output_type": "stream",
          "name": "stderr",
          "text": [
            "/usr/local/lib/python3.7/dist-packages/ipykernel_launcher.py:61: MatplotlibDeprecationWarning: Adding an axes using the same arguments as a previous axes currently reuses the earlier instance.  In a future version, a new instance will always be created and returned.  Meanwhile, this warning can be suppressed, and the future behavior ensured, by passing a unique label to each axes instance.\n",
            "/usr/local/lib/python3.7/dist-packages/ipykernel_launcher.py:83: MatplotlibDeprecationWarning: Adding an axes using the same arguments as a previous axes currently reuses the earlier instance.  In a future version, a new instance will always be created and returned.  Meanwhile, this warning can be suppressed, and the future behavior ensured, by passing a unique label to each axes instance.\n"
          ]
        },
        {
          "output_type": "display_data",
          "data": {
            "text/plain": [
              "<Figure size 432x288 with 1 Axes>"
            ],
            "image/png": "[encoded data removed]"
          },
          "metadata": {
            "needs_background": "light"
          }
        },
        {
          "output_type": "stream",
          "name": "stdout",
          "text": [
            "targets_location is  [[4.83972751]\n",
            " [5.82554686]]\n",
            "Start evaluating\n",
            "best cat is in 4.577028134826546 5.620073551675487\n",
            "1.1123024104432901 is min_value\n",
            "stable_num 0\n",
            "iteration 67\n",
            "fitness is\n",
            "1.1123024104432901\n"
          ]
        },
        {
          "output_type": "stream",
          "name": "stderr",
          "text": [
            "/usr/local/lib/python3.7/dist-packages/ipykernel_launcher.py:61: MatplotlibDeprecationWarning: Adding an axes using the same arguments as a previous axes currently reuses the earlier instance.  In a future version, a new instance will always be created and returned.  Meanwhile, this warning can be suppressed, and the future behavior ensured, by passing a unique label to each axes instance.\n",
            "/usr/local/lib/python3.7/dist-packages/ipykernel_launcher.py:83: MatplotlibDeprecationWarning: Adding an axes using the same arguments as a previous axes currently reuses the earlier instance.  In a future version, a new instance will always be created and returned.  Meanwhile, this warning can be suppressed, and the future behavior ensured, by passing a unique label to each axes instance.\n"
          ]
        },
        {
          "output_type": "display_data",
          "data": {
            "text/plain": [
              "<Figure size 432x288 with 1 Axes>"
            ],
            "image/png": "[encoded data removed]"
          },
          "metadata": {
            "needs_background": "light"
          }
        },
        {
          "output_type": "stream",
          "name": "stdout",
          "text": [
            "targets_location is  [[4.83972751]\n",
            " [5.82554686]]\n",
            "Start evaluating\n",
            "best cat is in 4.715063479967599 5.971518858508069\n",
            "0.36848944735275313 is min_value\n",
            "stable_num 0\n",
            "iteration 68\n",
            "fitness is\n",
            "0.36848944735275313\n"
          ]
        },
        {
          "output_type": "stream",
          "name": "stderr",
          "text": [
            "/usr/local/lib/python3.7/dist-packages/ipykernel_launcher.py:61: MatplotlibDeprecationWarning: Adding an axes using the same arguments as a previous axes currently reuses the earlier instance.  In a future version, a new instance will always be created and returned.  Meanwhile, this warning can be suppressed, and the future behavior ensured, by passing a unique label to each axes instance.\n",
            "/usr/local/lib/python3.7/dist-packages/ipykernel_launcher.py:83: MatplotlibDeprecationWarning: Adding an axes using the same arguments as a previous axes currently reuses the earlier instance.  In a future version, a new instance will always be created and returned.  Meanwhile, this warning can be suppressed, and the future behavior ensured, by passing a unique label to each axes instance.\n"
          ]
        },
        {
          "output_type": "display_data",
          "data": {
            "text/plain": [
              "<Figure size 432x288 with 1 Axes>"
            ],
            "image/png": "[encoded data removed]"
          },
          "metadata": {
            "needs_background": "light"
          }
        },
        {
          "output_type": "stream",
          "name": "stdout",
          "text": [
            "targets_location is  [[4.83972751]\n",
            " [5.82554686]]\n",
            "Start evaluating\n",
            "best cat is in 3.9213107270663645 5.021946445035434\n",
            "14.892630100538891 is min_value\n",
            "stable_num 0\n",
            "iteration 69\n",
            "fitness is\n",
            "14.892630100538891\n"
          ]
        },
        {
          "output_type": "stream",
          "name": "stderr",
          "text": [
            "/usr/local/lib/python3.7/dist-packages/ipykernel_launcher.py:61: MatplotlibDeprecationWarning: Adding an axes using the same arguments as a previous axes currently reuses the earlier instance.  In a future version, a new instance will always be created and returned.  Meanwhile, this warning can be suppressed, and the future behavior ensured, by passing a unique label to each axes instance.\n",
            "/usr/local/lib/python3.7/dist-packages/ipykernel_launcher.py:83: MatplotlibDeprecationWarning: Adding an axes using the same arguments as a previous axes currently reuses the earlier instance.  In a future version, a new instance will always be created and returned.  Meanwhile, this warning can be suppressed, and the future behavior ensured, by passing a unique label to each axes instance.\n"
          ]
        },
        {
          "output_type": "display_data",
          "data": {
            "text/plain": [
              "<Figure size 432x288 with 1 Axes>"
            ],
            "image/png": "[encoded data removed]"
          },
          "metadata": {
            "needs_background": "light"
          }
        },
        {
          "output_type": "stream",
          "name": "stderr",
          "text": [
            "/usr/local/lib/python3.7/dist-packages/ipykernel_launcher.py:61: MatplotlibDeprecationWarning: Adding an axes using the same arguments as a previous axes currently reuses the earlier instance.  In a future version, a new instance will always be created and returned.  Meanwhile, this warning can be suppressed, and the future behavior ensured, by passing a unique label to each axes instance.\n"
          ]
        },
        {
          "output_type": "stream",
          "name": "stdout",
          "text": [
            "targets_location is  [[4.83972751]\n",
            " [5.82554686]]\n",
            "Start evaluating\n",
            "best cat is in 4.1324496821737355 6.150787256302538\n",
            "6.060232400480501 is min_value\n",
            "stable_num 0\n",
            "iteration 70\n",
            "fitness is\n",
            "6.060232400480501\n"
          ]
        },
        {
          "output_type": "stream",
          "name": "stderr",
          "text": [
            "/usr/local/lib/python3.7/dist-packages/ipykernel_launcher.py:83: MatplotlibDeprecationWarning: Adding an axes using the same arguments as a previous axes currently reuses the earlier instance.  In a future version, a new instance will always be created and returned.  Meanwhile, this warning can be suppressed, and the future behavior ensured, by passing a unique label to each axes instance.\n"
          ]
        },
        {
          "output_type": "display_data",
          "data": {
            "text/plain": [
              "<Figure size 432x288 with 1 Axes>"
            ],
            "image/png": "[encoded data removed]"
          },
          "metadata": {
            "needs_background": "light"
          }
        },
        {
          "output_type": "stream",
          "name": "stdout",
          "text": [
            "targets_location is  [[4.83972751]\n",
            " [5.82554686]]\n",
            "Start evaluating\n"
          ]
        },
        {
          "output_type": "stream",
          "name": "stderr",
          "text": [
            "/usr/local/lib/python3.7/dist-packages/ipykernel_launcher.py:61: MatplotlibDeprecationWarning: Adding an axes using the same arguments as a previous axes currently reuses the earlier instance.  In a future version, a new instance will always be created and returned.  Meanwhile, this warning can be suppressed, and the future behavior ensured, by passing a unique label to each axes instance.\n"
          ]
        },
        {
          "output_type": "stream",
          "name": "stdout",
          "text": [
            "best cat is in 4.533212363498771 6.095844174423533\n",
            "1.670121730343432 is min_value\n",
            "stable_num 0\n",
            "iteration 71\n",
            "fitness is\n",
            "1.670121730343432\n"
          ]
        },
        {
          "output_type": "stream",
          "name": "stderr",
          "text": [
            "/usr/local/lib/python3.7/dist-packages/ipykernel_launcher.py:83: MatplotlibDeprecationWarning: Adding an axes using the same arguments as a previous axes currently reuses the earlier instance.  In a future version, a new instance will always be created and returned.  Meanwhile, this warning can be suppressed, and the future behavior ensured, by passing a unique label to each axes instance.\n"
          ]
        },
        {
          "output_type": "display_data",
          "data": {
            "text/plain": [
              "<Figure size 432x288 with 1 Axes>"
            ],
            "image/png": "[encoded data removed]"
          },
          "metadata": {
            "needs_background": "light"
          }
        },
        {
          "output_type": "stream",
          "name": "stdout",
          "text": [
            "targets_location is  [[4.83972751]\n",
            " [5.82554686]]\n",
            "Start evaluating\n",
            "best cat is in 5.495451831540024 4.4819766409034765\n",
            "22.351553182388088 is min_value\n",
            "stable_num 0\n",
            "iteration 72\n",
            "fitness is\n",
            "22.351553182388088\n"
          ]
        },
        {
          "output_type": "stream",
          "name": "stderr",
          "text": [
            "/usr/local/lib/python3.7/dist-packages/ipykernel_launcher.py:61: MatplotlibDeprecationWarning: Adding an axes using the same arguments as a previous axes currently reuses the earlier instance.  In a future version, a new instance will always be created and returned.  Meanwhile, this warning can be suppressed, and the future behavior ensured, by passing a unique label to each axes instance.\n",
            "/usr/local/lib/python3.7/dist-packages/ipykernel_launcher.py:83: MatplotlibDeprecationWarning: Adding an axes using the same arguments as a previous axes currently reuses the earlier instance.  In a future version, a new instance will always be created and returned.  Meanwhile, this warning can be suppressed, and the future behavior ensured, by passing a unique label to each axes instance.\n"
          ]
        },
        {
          "output_type": "display_data",
          "data": {
            "text/plain": [
              "<Figure size 432x288 with 1 Axes>"
            ],
            "image/png": "[encoded data removed]"
          },
          "metadata": {
            "needs_background": "light"
          }
        },
        {
          "output_type": "stream",
          "name": "stdout",
          "text": [
            "targets_location is  [[4.83972751]\n",
            " [5.82554686]]\n",
            "Start evaluating\n",
            "best cat is in 4.7729650874472895 6.037629360707182\n",
            "0.49436208463146514 is min_value\n",
            "stable_num 0\n",
            "iteration 73\n",
            "fitness is\n",
            "0.49436208463146514\n"
          ]
        },
        {
          "output_type": "stream",
          "name": "stderr",
          "text": [
            "/usr/local/lib/python3.7/dist-packages/ipykernel_launcher.py:61: MatplotlibDeprecationWarning: Adding an axes using the same arguments as a previous axes currently reuses the earlier instance.  In a future version, a new instance will always be created and returned.  Meanwhile, this warning can be suppressed, and the future behavior ensured, by passing a unique label to each axes instance.\n",
            "/usr/local/lib/python3.7/dist-packages/ipykernel_launcher.py:83: MatplotlibDeprecationWarning: Adding an axes using the same arguments as a previous axes currently reuses the earlier instance.  In a future version, a new instance will always be created and returned.  Meanwhile, this warning can be suppressed, and the future behavior ensured, by passing a unique label to each axes instance.\n"
          ]
        },
        {
          "output_type": "display_data",
          "data": {
            "text/plain": [
              "<Figure size 432x288 with 1 Axes>"
            ],
            "image/png": "[encoded data removed]"
          },
          "metadata": {
            "needs_background": "light"
          }
        },
        {
          "output_type": "stream",
          "name": "stdout",
          "text": [
            "targets_location is  [[4.83972751]\n",
            " [5.82554686]]\n",
            "Start evaluating\n",
            "best cat is in 9.137752261145316 7.23262905465983\n",
            "204.52897077844972 is min_value\n",
            "stable_num 0\n",
            "iteration 74\n",
            "fitness is\n",
            "204.52897077844972\n"
          ]
        },
        {
          "output_type": "stream",
          "name": "stderr",
          "text": [
            "/usr/local/lib/python3.7/dist-packages/ipykernel_launcher.py:61: MatplotlibDeprecationWarning: Adding an axes using the same arguments as a previous axes currently reuses the earlier instance.  In a future version, a new instance will always be created and returned.  Meanwhile, this warning can be suppressed, and the future behavior ensured, by passing a unique label to each axes instance.\n",
            "/usr/local/lib/python3.7/dist-packages/ipykernel_launcher.py:83: MatplotlibDeprecationWarning: Adding an axes using the same arguments as a previous axes currently reuses the earlier instance.  In a future version, a new instance will always be created and returned.  Meanwhile, this warning can be suppressed, and the future behavior ensured, by passing a unique label to each axes instance.\n"
          ]
        },
        {
          "output_type": "display_data",
          "data": {
            "text/plain": [
              "<Figure size 432x288 with 1 Axes>"
            ],
            "image/png": "[encoded data removed]"
          },
          "metadata": {
            "needs_background": "light"
          }
        },
        {
          "output_type": "stream",
          "name": "stdout",
          "text": [
            "targets_location is  [[4.83972751]\n",
            " [5.82554686]]\n",
            "Start evaluating\n",
            "best cat is in 5.00528320510236 5.578059251942343\n",
            "0.8865880420279276 is min_value\n",
            "stable_num 0\n",
            "iteration 75\n",
            "fitness is\n",
            "0.8865880420279276\n"
          ]
        },
        {
          "output_type": "stream",
          "name": "stderr",
          "text": [
            "/usr/local/lib/python3.7/dist-packages/ipykernel_launcher.py:61: MatplotlibDeprecationWarning: Adding an axes using the same arguments as a previous axes currently reuses the earlier instance.  In a future version, a new instance will always be created and returned.  Meanwhile, this warning can be suppressed, and the future behavior ensured, by passing a unique label to each axes instance.\n",
            "/usr/local/lib/python3.7/dist-packages/ipykernel_launcher.py:83: MatplotlibDeprecationWarning: Adding an axes using the same arguments as a previous axes currently reuses the earlier instance.  In a future version, a new instance will always be created and returned.  Meanwhile, this warning can be suppressed, and the future behavior ensured, by passing a unique label to each axes instance.\n"
          ]
        },
        {
          "output_type": "display_data",
          "data": {
            "text/plain": [
              "<Figure size 432x288 with 1 Axes>"
            ],
            "image/png": "[encoded data removed]"
          },
          "metadata": {
            "needs_background": "light"
          }
        },
        {
          "output_type": "stream",
          "name": "stdout",
          "text": [
            "targets_location is  [[4.83972751]\n",
            " [5.82554686]]\n",
            "Start evaluating\n",
            "best cat is in 4.170896017864585 5.548239446335209\n",
            "5.24234964262496 is min_value\n",
            "stable_num 0\n",
            "iteration 76\n",
            "fitness is\n",
            "5.24234964262496\n"
          ]
        },
        {
          "output_type": "stream",
          "name": "stderr",
          "text": [
            "/usr/local/lib/python3.7/dist-packages/ipykernel_launcher.py:61: MatplotlibDeprecationWarning: Adding an axes using the same arguments as a previous axes currently reuses the earlier instance.  In a future version, a new instance will always be created and returned.  Meanwhile, this warning can be suppressed, and the future behavior ensured, by passing a unique label to each axes instance.\n",
            "/usr/local/lib/python3.7/dist-packages/ipykernel_launcher.py:83: MatplotlibDeprecationWarning: Adding an axes using the same arguments as a previous axes currently reuses the earlier instance.  In a future version, a new instance will always be created and returned.  Meanwhile, this warning can be suppressed, and the future behavior ensured, by passing a unique label to each axes instance.\n"
          ]
        },
        {
          "output_type": "display_data",
          "data": {
            "text/plain": [
              "<Figure size 432x288 with 1 Axes>"
            ],
            "image/png": "[encoded data removed]"
          },
          "metadata": {
            "needs_background": "light"
          }
        },
        {
          "output_type": "stream",
          "name": "stdout",
          "text": [
            "targets_location is  [[4.83972751]\n",
            " [5.82554686]]\n",
            "Start evaluating\n",
            "best cat is in 6.144959251470778 5.737229233980544\n",
            "17.114299050994376 is min_value\n",
            "stable_num 0\n",
            "iteration 77\n",
            "fitness is\n",
            "17.114299050994376\n"
          ]
        },
        {
          "output_type": "stream",
          "name": "stderr",
          "text": [
            "/usr/local/lib/python3.7/dist-packages/ipykernel_launcher.py:61: MatplotlibDeprecationWarning: Adding an axes using the same arguments as a previous axes currently reuses the earlier instance.  In a future version, a new instance will always be created and returned.  Meanwhile, this warning can be suppressed, and the future behavior ensured, by passing a unique label to each axes instance.\n",
            "/usr/local/lib/python3.7/dist-packages/ipykernel_launcher.py:83: MatplotlibDeprecationWarning: Adding an axes using the same arguments as a previous axes currently reuses the earlier instance.  In a future version, a new instance will always be created and returned.  Meanwhile, this warning can be suppressed, and the future behavior ensured, by passing a unique label to each axes instance.\n"
          ]
        },
        {
          "output_type": "display_data",
          "data": {
            "text/plain": [
              "<Figure size 432x288 with 1 Axes>"
            ],
            "image/png": "[encoded data removed]"
          },
          "metadata": {
            "needs_background": "light"
          }
        },
        {
          "output_type": "stream",
          "name": "stdout",
          "text": [
            "targets_location is  [[4.83972751]\n",
            " [5.82554686]]\n",
            "Start evaluating\n",
            "best cat is in 4.800771843958489 6.33480629165374\n",
            "2.608627136509552 is min_value\n",
            "stable_num 0\n",
            "iteration 78\n",
            "fitness is\n",
            "2.608627136509552\n"
          ]
        },
        {
          "output_type": "stream",
          "name": "stderr",
          "text": [
            "/usr/local/lib/python3.7/dist-packages/ipykernel_launcher.py:61: MatplotlibDeprecationWarning: Adding an axes using the same arguments as a previous axes currently reuses the earlier instance.  In a future version, a new instance will always be created and returned.  Meanwhile, this warning can be suppressed, and the future behavior ensured, by passing a unique label to each axes instance.\n",
            "/usr/local/lib/python3.7/dist-packages/ipykernel_launcher.py:83: MatplotlibDeprecationWarning: Adding an axes using the same arguments as a previous axes currently reuses the earlier instance.  In a future version, a new instance will always be created and returned.  Meanwhile, this warning can be suppressed, and the future behavior ensured, by passing a unique label to each axes instance.\n"
          ]
        },
        {
          "output_type": "display_data",
          "data": {
            "text/plain": [
              "<Figure size 432x288 with 1 Axes>"
            ],
            "image/png": "[encoded data removed]"
          },
          "metadata": {
            "needs_background": "light"
          }
        },
        {
          "output_type": "stream",
          "name": "stdout",
          "text": [
            "targets_location is  [[4.83972751]\n",
            " [5.82554686]]\n",
            "Start evaluating\n",
            "best cat is in 4.818398341199973 4.441652298096097\n",
            "19.156190888554747 is min_value\n",
            "stable_num 0\n",
            "iteration 79\n",
            "fitness is\n",
            "19.156190888554747\n"
          ]
        },
        {
          "output_type": "stream",
          "name": "stderr",
          "text": [
            "/usr/local/lib/python3.7/dist-packages/ipykernel_launcher.py:61: MatplotlibDeprecationWarning: Adding an axes using the same arguments as a previous axes currently reuses the earlier instance.  In a future version, a new instance will always be created and returned.  Meanwhile, this warning can be suppressed, and the future behavior ensured, by passing a unique label to each axes instance.\n",
            "/usr/local/lib/python3.7/dist-packages/ipykernel_launcher.py:83: MatplotlibDeprecationWarning: Adding an axes using the same arguments as a previous axes currently reuses the earlier instance.  In a future version, a new instance will always be created and returned.  Meanwhile, this warning can be suppressed, and the future behavior ensured, by passing a unique label to each axes instance.\n"
          ]
        },
        {
          "output_type": "display_data",
          "data": {
            "text/plain": [
              "<Figure size 432x288 with 1 Axes>"
            ],
            "image/png": "[encoded data removed]"
          },
          "metadata": {
            "needs_background": "light"
          }
        },
        {
          "output_type": "stream",
          "name": "stdout",
          "text": [
            "targets_location is  [[4.83972751]\n",
            " [5.82554686]]\n",
            "Start evaluating\n",
            "best cat is in 4.290462485720433 5.449062949620698\n",
            "4.434321994739791 is min_value\n",
            "stable_num 0\n",
            "iteration 80\n",
            "fitness is\n",
            "4.434321994739791\n"
          ]
        },
        {
          "output_type": "stream",
          "name": "stderr",
          "text": [
            "/usr/local/lib/python3.7/dist-packages/ipykernel_launcher.py:61: MatplotlibDeprecationWarning: Adding an axes using the same arguments as a previous axes currently reuses the earlier instance.  In a future version, a new instance will always be created and returned.  Meanwhile, this warning can be suppressed, and the future behavior ensured, by passing a unique label to each axes instance.\n",
            "/usr/local/lib/python3.7/dist-packages/ipykernel_launcher.py:83: MatplotlibDeprecationWarning: Adding an axes using the same arguments as a previous axes currently reuses the earlier instance.  In a future version, a new instance will always be created and returned.  Meanwhile, this warning can be suppressed, and the future behavior ensured, by passing a unique label to each axes instance.\n"
          ]
        },
        {
          "output_type": "display_data",
          "data": {
            "text/plain": [
              "<Figure size 432x288 with 1 Axes>"
            ],
            "image/png": "[encoded data removed]"
          },
          "metadata": {
            "needs_background": "light"
          }
        },
        {
          "output_type": "stream",
          "name": "stdout",
          "text": [
            "targets_location is  [[4.83972751]\n",
            " [5.82554686]]\n",
            "Start evaluating\n",
            "best cat is in 3.7796317160405484 6.790328024606982\n",
            "20.5460578737635 is min_value\n",
            "stable_num 0\n",
            "iteration 81\n",
            "fitness is\n",
            "20.5460578737635\n"
          ]
        },
        {
          "output_type": "stream",
          "name": "stderr",
          "text": [
            "/usr/local/lib/python3.7/dist-packages/ipykernel_launcher.py:61: MatplotlibDeprecationWarning: Adding an axes using the same arguments as a previous axes currently reuses the earlier instance.  In a future version, a new instance will always be created and returned.  Meanwhile, this warning can be suppressed, and the future behavior ensured, by passing a unique label to each axes instance.\n",
            "/usr/local/lib/python3.7/dist-packages/ipykernel_launcher.py:83: MatplotlibDeprecationWarning: Adding an axes using the same arguments as a previous axes currently reuses the earlier instance.  In a future version, a new instance will always be created and returned.  Meanwhile, this warning can be suppressed, and the future behavior ensured, by passing a unique label to each axes instance.\n"
          ]
        },
        {
          "output_type": "display_data",
          "data": {
            "text/plain": [
              "<Figure size 432x288 with 1 Axes>"
            ],
            "image/png": "[encoded data removed]"
          },
          "metadata": {
            "needs_background": "light"
          }
        },
        {
          "output_type": "stream",
          "name": "stdout",
          "text": [
            "targets_location is  [[4.83972751]\n",
            " [5.82554686]]\n",
            "Start evaluating\n",
            "best cat is in 4.623818552538858 6.224263202442171\n",
            "2.0559139996373688 is min_value\n",
            "stable_num 0\n",
            "iteration 82\n",
            "fitness is\n",
            "2.0559139996373688\n"
          ]
        },
        {
          "output_type": "stream",
          "name": "stderr",
          "text": [
            "/usr/local/lib/python3.7/dist-packages/ipykernel_launcher.py:61: MatplotlibDeprecationWarning: Adding an axes using the same arguments as a previous axes currently reuses the earlier instance.  In a future version, a new instance will always be created and returned.  Meanwhile, this warning can be suppressed, and the future behavior ensured, by passing a unique label to each axes instance.\n",
            "/usr/local/lib/python3.7/dist-packages/ipykernel_launcher.py:83: MatplotlibDeprecationWarning: Adding an axes using the same arguments as a previous axes currently reuses the earlier instance.  In a future version, a new instance will always be created and returned.  Meanwhile, this warning can be suppressed, and the future behavior ensured, by passing a unique label to each axes instance.\n"
          ]
        },
        {
          "output_type": "display_data",
          "data": {
            "text/plain": [
              "<Figure size 432x288 with 1 Axes>"
            ],
            "image/png": "[encoded data removed]"
          },
          "metadata": {
            "needs_background": "light"
          }
        },
        {
          "output_type": "stream",
          "name": "stdout",
          "text": [
            "targets_location is  [[4.83972751]\n",
            " [5.82554686]]\n",
            "Start evaluating\n",
            "best cat is in 5.24545143065508 6.929787950267613\n",
            "13.839602886410262 is min_value\n",
            "stable_num 0\n",
            "iteration 83\n",
            "fitness is\n",
            "13.839602886410262\n"
          ]
        },
        {
          "output_type": "stream",
          "name": "stderr",
          "text": [
            "/usr/local/lib/python3.7/dist-packages/ipykernel_launcher.py:61: MatplotlibDeprecationWarning: Adding an axes using the same arguments as a previous axes currently reuses the earlier instance.  In a future version, a new instance will always be created and returned.  Meanwhile, this warning can be suppressed, and the future behavior ensured, by passing a unique label to each axes instance.\n",
            "/usr/local/lib/python3.7/dist-packages/ipykernel_launcher.py:83: MatplotlibDeprecationWarning: Adding an axes using the same arguments as a previous axes currently reuses the earlier instance.  In a future version, a new instance will always be created and returned.  Meanwhile, this warning can be suppressed, and the future behavior ensured, by passing a unique label to each axes instance.\n"
          ]
        },
        {
          "output_type": "display_data",
          "data": {
            "text/plain": [
              "<Figure size 432x288 with 1 Axes>"
            ],
            "image/png": "[encoded data removed]"
          },
          "metadata": {
            "needs_background": "light"
          }
        },
        {
          "output_type": "stream",
          "name": "stdout",
          "text": [
            "targets_location is  [[4.83972751]\n",
            " [5.82554686]]\n",
            "Start evaluating\n",
            "best cat is in 4.49045818810114 6.003590699750814\n",
            "1.5368866760051372 is min_value\n",
            "stable_num 0\n",
            "iteration 84\n",
            "fitness is\n",
            "1.5368866760051372\n"
          ]
        },
        {
          "output_type": "stream",
          "name": "stderr",
          "text": [
            "/usr/local/lib/python3.7/dist-packages/ipykernel_launcher.py:61: MatplotlibDeprecationWarning: Adding an axes using the same arguments as a previous axes currently reuses the earlier instance.  In a future version, a new instance will always be created and returned.  Meanwhile, this warning can be suppressed, and the future behavior ensured, by passing a unique label to each axes instance.\n",
            "/usr/local/lib/python3.7/dist-packages/ipykernel_launcher.py:83: MatplotlibDeprecationWarning: Adding an axes using the same arguments as a previous axes currently reuses the earlier instance.  In a future version, a new instance will always be created and returned.  Meanwhile, this warning can be suppressed, and the future behavior ensured, by passing a unique label to each axes instance.\n"
          ]
        },
        {
          "output_type": "display_data",
          "data": {
            "text/plain": [
              "<Figure size 432x288 with 1 Axes>"
            ],
            "image/png": "[encoded data removed]"
          },
          "metadata": {
            "needs_background": "light"
          }
        },
        {
          "output_type": "stream",
          "name": "stdout",
          "text": [
            "targets_location is  [[4.83972751]\n",
            " [5.82554686]]\n",
            "Start evaluating\n",
            "best cat is in 4.305806932114518 5.494214131018117\n",
            "3.948525587232645 is min_value\n",
            "stable_num 0\n",
            "iteration 85\n",
            "fitness is\n",
            "3.948525587232645\n"
          ]
        },
        {
          "output_type": "stream",
          "name": "stderr",
          "text": [
            "/usr/local/lib/python3.7/dist-packages/ipykernel_launcher.py:61: MatplotlibDeprecationWarning: Adding an axes using the same arguments as a previous axes currently reuses the earlier instance.  In a future version, a new instance will always be created and returned.  Meanwhile, this warning can be suppressed, and the future behavior ensured, by passing a unique label to each axes instance.\n",
            "/usr/local/lib/python3.7/dist-packages/ipykernel_launcher.py:83: MatplotlibDeprecationWarning: Adding an axes using the same arguments as a previous axes currently reuses the earlier instance.  In a future version, a new instance will always be created and returned.  Meanwhile, this warning can be suppressed, and the future behavior ensured, by passing a unique label to each axes instance.\n"
          ]
        },
        {
          "output_type": "display_data",
          "data": {
            "text/plain": [
              "<Figure size 432x288 with 1 Axes>"
            ],
            "image/png": "[encoded data removed]"
          },
          "metadata": {
            "needs_background": "light"
          }
        },
        {
          "output_type": "stream",
          "name": "stdout",
          "text": [
            "targets_location is  [[4.83972751]\n",
            " [5.82554686]]\n",
            "Start evaluating\n",
            "best cat is in 4.4754847434074145 6.425322017005931\n",
            "4.924030323606285 is min_value\n",
            "stable_num 0\n",
            "iteration 86\n",
            "fitness is\n",
            "4.924030323606285\n"
          ]
        },
        {
          "output_type": "stream",
          "name": "stderr",
          "text": [
            "/usr/local/lib/python3.7/dist-packages/ipykernel_launcher.py:61: MatplotlibDeprecationWarning: Adding an axes using the same arguments as a previous axes currently reuses the earlier instance.  In a future version, a new instance will always be created and returned.  Meanwhile, this warning can be suppressed, and the future behavior ensured, by passing a unique label to each axes instance.\n",
            "/usr/local/lib/python3.7/dist-packages/ipykernel_launcher.py:83: MatplotlibDeprecationWarning: Adding an axes using the same arguments as a previous axes currently reuses the earlier instance.  In a future version, a new instance will always be created and returned.  Meanwhile, this warning can be suppressed, and the future behavior ensured, by passing a unique label to each axes instance.\n"
          ]
        },
        {
          "output_type": "display_data",
          "data": {
            "text/plain": [
              "<Figure size 432x288 with 1 Axes>"
            ],
            "image/png": "[encoded data removed]"
          },
          "metadata": {
            "needs_background": "light"
          }
        },
        {
          "output_type": "stream",
          "name": "stdout",
          "text": [
            "targets_location is  [[4.83972751]\n",
            " [5.82554686]]\n",
            "Start evaluating\n",
            "best cat is in 6.040619556184825 6.649835856373108\n",
            "21.215940609384624 is min_value\n",
            "stable_num 0\n",
            "iteration 87\n",
            "fitness is\n",
            "21.215940609384624\n"
          ]
        },
        {
          "output_type": "stream",
          "name": "stderr",
          "text": [
            "/usr/local/lib/python3.7/dist-packages/ipykernel_launcher.py:61: MatplotlibDeprecationWarning: Adding an axes using the same arguments as a previous axes currently reuses the earlier instance.  In a future version, a new instance will always be created and returned.  Meanwhile, this warning can be suppressed, and the future behavior ensured, by passing a unique label to each axes instance.\n",
            "/usr/local/lib/python3.7/dist-packages/ipykernel_launcher.py:83: MatplotlibDeprecationWarning: Adding an axes using the same arguments as a previous axes currently reuses the earlier instance.  In a future version, a new instance will always be created and returned.  Meanwhile, this warning can be suppressed, and the future behavior ensured, by passing a unique label to each axes instance.\n"
          ]
        },
        {
          "output_type": "display_data",
          "data": {
            "text/plain": [
              "<Figure size 432x288 with 1 Axes>"
            ],
            "image/png": "[encoded data removed]"
          },
          "metadata": {
            "needs_background": "light"
          }
        },
        {
          "output_type": "stream",
          "name": "stdout",
          "text": [
            "targets_location is  [[4.83972751]\n",
            " [5.82554686]]\n",
            "Start evaluating\n",
            "best cat is in 5.196939465370903 6.063692457035223\n",
            "1.8431370786167824 is min_value\n",
            "stable_num 0\n",
            "iteration 88\n",
            "fitness is\n",
            "1.8431370786167824\n"
          ]
        },
        {
          "output_type": "stream",
          "name": "stderr",
          "text": [
            "/usr/local/lib/python3.7/dist-packages/ipykernel_launcher.py:61: MatplotlibDeprecationWarning: Adding an axes using the same arguments as a previous axes currently reuses the earlier instance.  In a future version, a new instance will always be created and returned.  Meanwhile, this warning can be suppressed, and the future behavior ensured, by passing a unique label to each axes instance.\n",
            "/usr/local/lib/python3.7/dist-packages/ipykernel_launcher.py:83: MatplotlibDeprecationWarning: Adding an axes using the same arguments as a previous axes currently reuses the earlier instance.  In a future version, a new instance will always be created and returned.  Meanwhile, this warning can be suppressed, and the future behavior ensured, by passing a unique label to each axes instance.\n"
          ]
        },
        {
          "output_type": "display_data",
          "data": {
            "text/plain": [
              "<Figure size 432x288 with 1 Axes>"
            ],
            "image/png": "[encoded data removed]"
          },
          "metadata": {
            "needs_background": "light"
          }
        },
        {
          "output_type": "stream",
          "name": "stdout",
          "text": [
            "targets_location is  [[4.83972751]\n",
            " [5.82554686]]\n",
            "Start evaluating\n",
            "best cat is in 5.636399510056805 7.343736525054936\n",
            "29.395861400484456 is min_value\n",
            "stable_num 0\n",
            "iteration 89\n",
            "fitness is\n",
            "29.395861400484456\n"
          ]
        },
        {
          "output_type": "stream",
          "name": "stderr",
          "text": [
            "/usr/local/lib/python3.7/dist-packages/ipykernel_launcher.py:61: MatplotlibDeprecationWarning: Adding an axes using the same arguments as a previous axes currently reuses the earlier instance.  In a future version, a new instance will always be created and returned.  Meanwhile, this warning can be suppressed, and the future behavior ensured, by passing a unique label to each axes instance.\n",
            "/usr/local/lib/python3.7/dist-packages/ipykernel_launcher.py:83: MatplotlibDeprecationWarning: Adding an axes using the same arguments as a previous axes currently reuses the earlier instance.  In a future version, a new instance will always be created and returned.  Meanwhile, this warning can be suppressed, and the future behavior ensured, by passing a unique label to each axes instance.\n"
          ]
        },
        {
          "output_type": "display_data",
          "data": {
            "text/plain": [
              "<Figure size 432x288 with 1 Axes>"
            ],
            "image/png": "[encoded data removed]"
          },
          "metadata": {
            "needs_background": "light"
          }
        },
        {
          "output_type": "stream",
          "name": "stdout",
          "text": [
            "targets_location is  [[4.83972751]\n",
            " [5.82554686]]\n",
            "Start evaluating\n",
            "best cat is in 4.2166475819870115 5.926554776365264\n",
            "3.9843119451318367 is min_value\n",
            "stable_num 0\n",
            "iteration 90\n",
            "fitness is\n",
            "3.9843119451318367\n"
          ]
        },
        {
          "output_type": "stream",
          "name": "stderr",
          "text": [
            "/usr/local/lib/python3.7/dist-packages/ipykernel_launcher.py:61: MatplotlibDeprecationWarning: Adding an axes using the same arguments as a previous axes currently reuses the earlier instance.  In a future version, a new instance will always be created and returned.  Meanwhile, this warning can be suppressed, and the future behavior ensured, by passing a unique label to each axes instance.\n",
            "/usr/local/lib/python3.7/dist-packages/ipykernel_launcher.py:83: MatplotlibDeprecationWarning: Adding an axes using the same arguments as a previous axes currently reuses the earlier instance.  In a future version, a new instance will always be created and returned.  Meanwhile, this warning can be suppressed, and the future behavior ensured, by passing a unique label to each axes instance.\n"
          ]
        },
        {
          "output_type": "display_data",
          "data": {
            "text/plain": [
              "<Figure size 432x288 with 1 Axes>"
            ],
            "image/png": "[encoded data removed]"
          },
          "metadata": {
            "needs_background": "light"
          }
        },
        {
          "output_type": "stream",
          "name": "stdout",
          "text": [
            "targets_location is  [[4.83972751]\n",
            " [5.82554686]]\n",
            "Start evaluating\n",
            "best cat is in 4.808802403961261 7.534542337281733\n",
            "29.216219071796438 is min_value\n",
            "stable_num 0\n",
            "iteration 91\n",
            "fitness is\n",
            "29.216219071796438\n"
          ]
        },
        {
          "output_type": "stream",
          "name": "stderr",
          "text": [
            "/usr/local/lib/python3.7/dist-packages/ipykernel_launcher.py:61: MatplotlibDeprecationWarning: Adding an axes using the same arguments as a previous axes currently reuses the earlier instance.  In a future version, a new instance will always be created and returned.  Meanwhile, this warning can be suppressed, and the future behavior ensured, by passing a unique label to each axes instance.\n",
            "/usr/local/lib/python3.7/dist-packages/ipykernel_launcher.py:83: MatplotlibDeprecationWarning: Adding an axes using the same arguments as a previous axes currently reuses the earlier instance.  In a future version, a new instance will always be created and returned.  Meanwhile, this warning can be suppressed, and the future behavior ensured, by passing a unique label to each axes instance.\n"
          ]
        },
        {
          "output_type": "display_data",
          "data": {
            "text/plain": [
              "<Figure size 432x288 with 1 Axes>"
            ],
            "image/png": "[encoded data removed]"
          },
          "metadata": {
            "needs_background": "light"
          }
        },
        {
          "output_type": "stream",
          "name": "stdout",
          "text": [
            "targets_location is  [[4.83972751]\n",
            " [5.82554686]]\n",
            "Start evaluating\n",
            "best cat is in 4.903257698185076 5.988983286193421\n",
            "0.30747550731742407 is min_value\n",
            "stable_num 0\n",
            "iteration 92\n",
            "fitness is\n",
            "0.30747550731742407\n"
          ]
        },
        {
          "output_type": "stream",
          "name": "stderr",
          "text": [
            "/usr/local/lib/python3.7/dist-packages/ipykernel_launcher.py:61: MatplotlibDeprecationWarning: Adding an axes using the same arguments as a previous axes currently reuses the earlier instance.  In a future version, a new instance will always be created and returned.  Meanwhile, this warning can be suppressed, and the future behavior ensured, by passing a unique label to each axes instance.\n",
            "/usr/local/lib/python3.7/dist-packages/ipykernel_launcher.py:83: MatplotlibDeprecationWarning: Adding an axes using the same arguments as a previous axes currently reuses the earlier instance.  In a future version, a new instance will always be created and returned.  Meanwhile, this warning can be suppressed, and the future behavior ensured, by passing a unique label to each axes instance.\n"
          ]
        },
        {
          "output_type": "display_data",
          "data": {
            "text/plain": [
              "<Figure size 432x288 with 1 Axes>"
            ],
            "image/png": "[encoded data removed]"
          },
          "metadata": {
            "needs_background": "light"
          }
        },
        {
          "output_type": "stream",
          "name": "stdout",
          "text": [
            "targets_location is  [[4.83972751]\n",
            " [5.82554686]]\n",
            "Start evaluating\n",
            "best cat is in 4.942343255620437 5.867276078961379\n",
            "0.12271319312871497 is min_value\n",
            "stable_num 0\n",
            "iteration 93\n",
            "fitness is\n",
            "0.12271319312871497\n"
          ]
        },
        {
          "output_type": "stream",
          "name": "stderr",
          "text": [
            "/usr/local/lib/python3.7/dist-packages/ipykernel_launcher.py:61: MatplotlibDeprecationWarning: Adding an axes using the same arguments as a previous axes currently reuses the earlier instance.  In a future version, a new instance will always be created and returned.  Meanwhile, this warning can be suppressed, and the future behavior ensured, by passing a unique label to each axes instance.\n",
            "/usr/local/lib/python3.7/dist-packages/ipykernel_launcher.py:83: MatplotlibDeprecationWarning: Adding an axes using the same arguments as a previous axes currently reuses the earlier instance.  In a future version, a new instance will always be created and returned.  Meanwhile, this warning can be suppressed, and the future behavior ensured, by passing a unique label to each axes instance.\n"
          ]
        },
        {
          "output_type": "display_data",
          "data": {
            "text/plain": [
              "<Figure size 432x288 with 1 Axes>"
            ],
            "image/png": "[encoded data removed]"
          },
          "metadata": {
            "needs_background": "light"
          }
        },
        {
          "output_type": "stream",
          "name": "stdout",
          "text": [
            "targets_location is  [[4.83972751]\n",
            " [5.82554686]]\n",
            "Start evaluating\n",
            "best cat is in 4.948126553752477 5.147210781674125\n",
            "4.718901866471871 is min_value\n",
            "stable_num 0\n",
            "iteration 94\n",
            "fitness is\n",
            "4.718901866471871\n"
          ]
        },
        {
          "output_type": "stream",
          "name": "stderr",
          "text": [
            "/usr/local/lib/python3.7/dist-packages/ipykernel_launcher.py:61: MatplotlibDeprecationWarning: Adding an axes using the same arguments as a previous axes currently reuses the earlier instance.  In a future version, a new instance will always be created and returned.  Meanwhile, this warning can be suppressed, and the future behavior ensured, by passing a unique label to each axes instance.\n",
            "/usr/local/lib/python3.7/dist-packages/ipykernel_launcher.py:83: MatplotlibDeprecationWarning: Adding an axes using the same arguments as a previous axes currently reuses the earlier instance.  In a future version, a new instance will always be created and returned.  Meanwhile, this warning can be suppressed, and the future behavior ensured, by passing a unique label to each axes instance.\n"
          ]
        },
        {
          "output_type": "display_data",
          "data": {
            "text/plain": [
              "<Figure size 432x288 with 1 Axes>"
            ],
            "image/png": "[encoded data removed]"
          },
          "metadata": {
            "needs_background": "light"
          }
        },
        {
          "output_type": "stream",
          "name": "stdout",
          "text": [
            "targets_location is  [[4.83972751]\n",
            " [5.82554686]]\n",
            "Start evaluating\n",
            "best cat is in 4.840737726200068 5.758146883167567\n",
            "0.04543777270225001 is min_value\n",
            "stable_num 0\n",
            "iteration 95\n",
            "fitness is\n",
            "0.04543777270225001\n"
          ]
        },
        {
          "output_type": "stream",
          "name": "stderr",
          "text": [
            "/usr/local/lib/python3.7/dist-packages/ipykernel_launcher.py:61: MatplotlibDeprecationWarning: Adding an axes using the same arguments as a previous axes currently reuses the earlier instance.  In a future version, a new instance will always be created and returned.  Meanwhile, this warning can be suppressed, and the future behavior ensured, by passing a unique label to each axes instance.\n",
            "/usr/local/lib/python3.7/dist-packages/ipykernel_launcher.py:83: MatplotlibDeprecationWarning: Adding an axes using the same arguments as a previous axes currently reuses the earlier instance.  In a future version, a new instance will always be created and returned.  Meanwhile, this warning can be suppressed, and the future behavior ensured, by passing a unique label to each axes instance.\n"
          ]
        },
        {
          "output_type": "display_data",
          "data": {
            "text/plain": [
              "<Figure size 432x288 with 1 Axes>"
            ],
            "image/png": "[encoded data removed]"
          },
          "metadata": {
            "needs_background": "light"
          }
        },
        {
          "output_type": "stream",
          "name": "stdout",
          "text": [
            "targets_location is  [[4.83972751]\n",
            " [5.82554686]]\n",
            "Start evaluating\n",
            "best cat is in 8.56456482153143 5.842778919341868\n",
            "138.74709950650228 is min_value\n",
            "stable_num 0\n",
            "iteration 96\n",
            "fitness is\n",
            "138.74709950650228\n"
          ]
        },
        {
          "output_type": "stream",
          "name": "stderr",
          "text": [
            "/usr/local/lib/python3.7/dist-packages/ipykernel_launcher.py:61: MatplotlibDeprecationWarning: Adding an axes using the same arguments as a previous axes currently reuses the earlier instance.  In a future version, a new instance will always be created and returned.  Meanwhile, this warning can be suppressed, and the future behavior ensured, by passing a unique label to each axes instance.\n",
            "/usr/local/lib/python3.7/dist-packages/ipykernel_launcher.py:83: MatplotlibDeprecationWarning: Adding an axes using the same arguments as a previous axes currently reuses the earlier instance.  In a future version, a new instance will always be created and returned.  Meanwhile, this warning can be suppressed, and the future behavior ensured, by passing a unique label to each axes instance.\n"
          ]
        },
        {
          "output_type": "display_data",
          "data": {
            "text/plain": [
              "<Figure size 432x288 with 1 Axes>"
            ],
            "image/png": "[encoded data removed]"
          },
          "metadata": {
            "needs_background": "light"
          }
        },
        {
          "output_type": "stream",
          "name": "stdout",
          "text": [
            "targets_location is  [[4.83972751]\n",
            " [5.82554686]]\n",
            "Start evaluating\n",
            "best cat is in 3.361832122930718 5.941840311165482\n",
            "21.976989384401904 is min_value\n",
            "stable_num 0\n",
            "iteration 97\n",
            "fitness is\n",
            "21.976989384401904\n"
          ]
        },
        {
          "output_type": "stream",
          "name": "stderr",
          "text": [
            "/usr/local/lib/python3.7/dist-packages/ipykernel_launcher.py:61: MatplotlibDeprecationWarning: Adding an axes using the same arguments as a previous axes currently reuses the earlier instance.  In a future version, a new instance will always be created and returned.  Meanwhile, this warning can be suppressed, and the future behavior ensured, by passing a unique label to each axes instance.\n",
            "/usr/local/lib/python3.7/dist-packages/ipykernel_launcher.py:83: MatplotlibDeprecationWarning: Adding an axes using the same arguments as a previous axes currently reuses the earlier instance.  In a future version, a new instance will always be created and returned.  Meanwhile, this warning can be suppressed, and the future behavior ensured, by passing a unique label to each axes instance.\n"
          ]
        },
        {
          "output_type": "display_data",
          "data": {
            "text/plain": [
              "<Figure size 432x288 with 1 Axes>"
            ],
            "image/png": "[encoded data removed]"
          },
          "metadata": {
            "needs_background": "light"
          }
        },
        {
          "output_type": "stream",
          "name": "stdout",
          "text": [
            "targets_location is  [[4.83972751]\n",
            " [5.82554686]]\n",
            "Start evaluating\n",
            "best cat is in 5.782941255549941 11.676129130523954\n",
            "351.1896508901747 is min_value\n",
            "stable_num 0\n",
            "iteration 98\n",
            "fitness is\n",
            "351.1896508901747\n"
          ]
        },
        {
          "output_type": "stream",
          "name": "stderr",
          "text": [
            "/usr/local/lib/python3.7/dist-packages/ipykernel_launcher.py:61: MatplotlibDeprecationWarning: Adding an axes using the same arguments as a previous axes currently reuses the earlier instance.  In a future version, a new instance will always be created and returned.  Meanwhile, this warning can be suppressed, and the future behavior ensured, by passing a unique label to each axes instance.\n",
            "/usr/local/lib/python3.7/dist-packages/ipykernel_launcher.py:83: MatplotlibDeprecationWarning: Adding an axes using the same arguments as a previous axes currently reuses the earlier instance.  In a future version, a new instance will always be created and returned.  Meanwhile, this warning can be suppressed, and the future behavior ensured, by passing a unique label to each axes instance.\n"
          ]
        },
        {
          "output_type": "display_data",
          "data": {
            "text/plain": [
              "<Figure size 432x288 with 1 Axes>"
            ],
            "image/png": "[encoded data removed]"
          },
          "metadata": {
            "needs_background": "light"
          }
        },
        {
          "output_type": "stream",
          "name": "stdout",
          "text": [
            "targets_location is  [[4.83972751]\n",
            " [5.82554686]]\n",
            "Start evaluating\n",
            "best cat is in 5.367957744581969 5.200599526291961\n",
            "6.69586350609014 is min_value\n",
            "stable_num 0\n",
            "iteration 99\n",
            "fitness is\n",
            "6.69586350609014\n"
          ]
        },
        {
          "output_type": "display_data",
          "data": {
            "text/plain": [
              "<Figure size 432x288 with 0 Axes>"
            ]
          },
          "metadata": {}
        }
      ]
    }
  ]
}